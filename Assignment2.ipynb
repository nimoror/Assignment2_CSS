{
 "cells": [
  {
   "cell_type": "markdown",
<<<<<<< HEAD:Assignment2_part1.ipynb
   "id": "3f61f8a4",
   "metadata": {},
   "source": [
    "Link to github: https://github.com/nimoror/Assignment2_CSS\n",
    "Conribution statement\n",
    "* Part 1: xx%\n",
    "* Part 2:\n",
    "* Part 3:"
   ]
  },
  {
   "cell_type": "markdown",
   "id": "b2611118",
   "metadata": {},
   "source": [
    "# Assignment 2"
   ]
  },
  {
   "cell_type": "markdown",
   "id": "f5ed193d",
   "metadata": {},
   "source": []
  },
  {
   "cell_type": "markdown",
   "id": "0be89347",
   "metadata": {},
   "source": [
    "## Part 1: XXX"
=======
   "id": "1031e568",
   "metadata": {},
   "source": [
    "### We hereby state that each of the group members contributed approximately a third to the assignment.\n",
    "### github repo: https://github.com/nimoror/Assignment2_CSS"
>>>>>>> 09e71dd16eb705cc29400edc6f6d325833597efd:Assignment2.ipynb
   ]
  },
  {
   "cell_type": "code",
<<<<<<< HEAD:Assignment2_part1.ipynb
   "execution_count": 1,
   "id": "c93097e6",
   "metadata": {},
   "outputs": [],
   "source": [
    "#Imports\n",
=======
   "execution_count": 5,
   "id": "9a0be568",
   "metadata": {},
   "outputs": [],
   "source": [
    "# imports\n",
>>>>>>> 09e71dd16eb705cc29400edc6f6d325833597efd:Assignment2.ipynb
    "import pandas as pd\n",
    "import os\n",
    "import networkx as nx\n",
    "import matplotlib.pyplot as plt\n",
    "import numpy as np\n",
<<<<<<< HEAD:Assignment2_part1.ipynb
    "from scipy import stats\n",
    "import nltk"
=======
    "from scipy import stats"
   ]
  },
  {
   "cell_type": "markdown",
   "id": "e8068326",
   "metadata": {},
   "source": [
    "# Part 1: Mixing Patterns and Assortativity\n"
   ]
  },
  {
   "cell_type": "code",
   "execution_count": 4,
   "id": "7df9b4c2",
   "metadata": {},
   "outputs": [],
   "source": [
    "#load the graph\n",
    "G = nx.read_gpickle(\"css_graph.gpickle\")"
   ]
  },
  {
   "cell_type": "markdown",
   "id": "d448d9b2",
   "metadata": {},
   "source": [
    "## Exercise 1: Mixing Patterns and Assortativity.\n",
    "\n",
    "### For each node, compute the fraction of edges that connect to a node that works in the same top field. Find the average value across all nodes."
>>>>>>> 09e71dd16eb705cc29400edc6f6d325833597efd:Assignment2.ipynb
   ]
  },
  {
   "cell_type": "code",
   "execution_count": null,
<<<<<<< HEAD:Assignment2_part1.ipynb
   "id": "b6b231b8",
=======
   "id": "80355d25",
>>>>>>> 09e71dd16eb705cc29400edc6f6d325833597efd:Assignment2.ipynb
   "metadata": {},
   "outputs": [],
   "source": []
  },
  {
   "cell_type": "code",
   "execution_count": null,
<<<<<<< HEAD:Assignment2_part1.ipynb
   "id": "ef21eb31",
=======
   "id": "c57599db",
   "metadata": {},
   "outputs": [],
   "source": []
  },
  {
   "cell_type": "code",
   "execution_count": null,
   "id": "4da27237",
   "metadata": {},
   "outputs": [],
   "source": []
  },
  {
   "cell_type": "code",
   "execution_count": null,
   "id": "d5ae41f5",
   "metadata": {},
   "outputs": [],
   "source": []
  },
  {
   "cell_type": "code",
   "execution_count": null,
   "id": "70bf5fda",
>>>>>>> 09e71dd16eb705cc29400edc6f6d325833597efd:Assignment2.ipynb
   "metadata": {},
   "outputs": [],
   "source": []
  },
  {
   "cell_type": "markdown",
<<<<<<< HEAD:Assignment2_part1.ipynb
   "id": "9851364e",
   "metadata": {},
   "source": [
    "Type question from the assignment here\n",
    "> Type the answer here..."
=======
   "id": "06ff8378",
   "metadata": {},
   "source": [
    "# Part 2: Communities"
   ]
  },
  {
   "cell_type": "markdown",
   "id": "426c8a27",
   "metadata": {},
   "source": [
    "## Exercise 2: Zachary's karate club: In this exercise, we will work on Zarachy's karate club graph (refer to the Introduction of Chapter 9). The dataset is available in NetworkX, by calling the function karate_club_graph"
   ]
  },
  {
   "cell_type": "markdown",
   "id": "7b2d6d6e",
   "metadata": {},
   "source": [
    "### 1. Visualize the graph using netwulf. Set the color of each node based on the club split (the information is stored as a node attribute). My version of the visualization is below."
>>>>>>> 09e71dd16eb705cc29400edc6f6d325833597efd:Assignment2.ipynb
   ]
  },
  {
   "cell_type": "code",
   "execution_count": null,
<<<<<<< HEAD:Assignment2_part1.ipynb
   "id": "faa1b50b",
=======
   "id": "e3c1f2e6",
>>>>>>> 09e71dd16eb705cc29400edc6f6d325833597efd:Assignment2.ipynb
   "metadata": {},
   "outputs": [],
   "source": []
  },
  {
   "cell_type": "code",
   "execution_count": null,
<<<<<<< HEAD:Assignment2_part1.ipynb
   "id": "33b83ff7",
=======
   "id": "ba2315d5",
>>>>>>> 09e71dd16eb705cc29400edc6f6d325833597efd:Assignment2.ipynb
   "metadata": {},
   "outputs": [],
   "source": []
  },
  {
   "cell_type": "code",
   "execution_count": null,
<<<<<<< HEAD:Assignment2_part1.ipynb
   "id": "0b2b20c9",
=======
   "id": "481f0db9",
>>>>>>> 09e71dd16eb705cc29400edc6f6d325833597efd:Assignment2.ipynb
   "metadata": {},
   "outputs": [],
   "source": []
  },
  {
   "cell_type": "code",
   "execution_count": null,
<<<<<<< HEAD:Assignment2_part1.ipynb
   "id": "5a6bcb83",
=======
   "id": "311305c2",
   "metadata": {},
   "outputs": [],
   "source": []
  },
  {
   "cell_type": "code",
   "execution_count": null,
   "id": "36a509f6",
>>>>>>> 09e71dd16eb705cc29400edc6f6d325833597efd:Assignment2.ipynb
   "metadata": {},
   "outputs": [],
   "source": []
  },
  {
   "cell_type": "markdown",
<<<<<<< HEAD:Assignment2_part1.ipynb
   "id": "38f4238c",
   "metadata": {},
   "source": [
    "## Part 2: XXX"
=======
   "id": "41f60570",
   "metadata": {},
   "source": [
    "# Part 3: TF-IDF."
   ]
  },
  {
   "cell_type": "markdown",
   "id": "85ce43d9",
   "metadata": {},
   "source": [
    "## Exercise 4: TF-IDF and the Computational Social Science communities. The goal for this exercise is to find the words charachterizing each of the communities of Computational Social Scientists. What you ned for this exercise:"
>>>>>>> 09e71dd16eb705cc29400edc6f6d325833597efd:Assignment2.ipynb
   ]
  },
  {
   "cell_type": "code",
   "execution_count": null,
<<<<<<< HEAD:Assignment2_part1.ipynb
   "id": "a9d2b285",
=======
   "id": "7591ad3d",
>>>>>>> 09e71dd16eb705cc29400edc6f6d325833597efd:Assignment2.ipynb
   "metadata": {},
   "outputs": [],
   "source": []
  },
  {
   "cell_type": "code",
   "execution_count": null,
<<<<<<< HEAD:Assignment2_part1.ipynb
   "id": "b9b6651d",
=======
   "id": "44daaab1",
>>>>>>> 09e71dd16eb705cc29400edc6f6d325833597efd:Assignment2.ipynb
   "metadata": {},
   "outputs": [],
   "source": []
  },
  {
   "cell_type": "code",
   "execution_count": null,
<<<<<<< HEAD:Assignment2_part1.ipynb
   "id": "5e440884",
=======
   "id": "75e64635",
   "metadata": {},
   "outputs": [],
   "source": []
  },
  {
   "cell_type": "code",
   "execution_count": null,
   "id": "0dd19d06",
>>>>>>> 09e71dd16eb705cc29400edc6f6d325833597efd:Assignment2.ipynb
   "metadata": {},
   "outputs": [],
   "source": []
  }
 ],
 "metadata": {
  "kernelspec": {
   "display_name": "Python 3 (ipykernel)",
   "language": "python",
   "name": "python3"
  },
  "language_info": {
   "codemirror_mode": {
    "name": "ipython",
    "version": 3
   },
   "file_extension": ".py",
   "mimetype": "text/x-python",
   "name": "python",
   "nbconvert_exporter": "python",
   "pygments_lexer": "ipython3",
<<<<<<< HEAD:Assignment2_part1.ipynb
   "version": "3.9.12"
=======
   "version": "3.9.7"
>>>>>>> 09e71dd16eb705cc29400edc6f6d325833597efd:Assignment2.ipynb
  }
 },
 "nbformat": 4,
 "nbformat_minor": 5
}
