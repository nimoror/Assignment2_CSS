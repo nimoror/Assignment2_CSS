{
 "cells": [
  {
   "cell_type": "markdown",
   "id": "3b9b2bd6",
   "metadata": {},
   "source": [
    "### We hereby state that each of the group members contributed approximately a third to the assignment.\n",
    "### github repo: https://github.com/nimoror/Assignment2_CSS"
   ]
  },
  {
   "cell_type": "markdown",
   "id": "fcda0ac1",
   "metadata": {},
   "source": [
    "# Part 1: Mixing Patterns and Assortativity\n"
   ]
  },
  {
   "cell_type": "markdown",
   "id": "0dee982d",
   "metadata": {},
   "source": [
    "## Exercise 1: Mixing Patterns and Assortativity.\n",
    "\n",
    "### For each node, compute the fraction of edges that connect to a node that works in the same top field. Find the average value across all nodes."
   ]
  },
  {
   "cell_type": "code",
   "execution_count": null,
   "id": "f9fee852",
   "metadata": {},
   "outputs": [],
   "source": []
  },
  {
   "cell_type": "code",
   "execution_count": null,
   "id": "dab20b8d",
   "metadata": {},
   "outputs": [],
   "source": []
  },
  {
   "cell_type": "code",
   "execution_count": null,
   "id": "e1ac7754",
   "metadata": {},
   "outputs": [],
   "source": []
  },
  {
   "cell_type": "code",
   "execution_count": null,
   "id": "d899488e",
   "metadata": {},
   "outputs": [],
   "source": []
  },
  {
   "cell_type": "code",
   "execution_count": null,
   "id": "67fdc068",
   "metadata": {},
   "outputs": [],
   "source": []
  },
  {
   "cell_type": "markdown",
   "id": "76efe2bf",
   "metadata": {},
   "source": [
    "# Part 2: Communities"
   ]
  },
  {
   "cell_type": "markdown",
   "id": "e7cdfff4",
   "metadata": {},
   "source": [
    "## Exercise 2: Zachary's karate club: In this exercise, we will work on Zarachy's karate club graph (refer to the Introduction of Chapter 9). The dataset is available in NetworkX, by calling the function karate_club_graph"
   ]
  },
  {
   "cell_type": "markdown",
   "id": "9be4ced9",
   "metadata": {},
   "source": [
    "### 1. Visualize the graph using netwulf. Set the color of each node based on the club split (the information is stored as a node attribute). My version of the visualization is below."
   ]
  },
  {
   "cell_type": "code",
   "execution_count": null,
   "id": "ba20dc48",
   "metadata": {},
   "outputs": [],
   "source": []
  },
  {
   "cell_type": "code",
   "execution_count": null,
   "id": "2c790240",
   "metadata": {},
   "outputs": [],
   "source": []
  },
  {
   "cell_type": "code",
   "execution_count": null,
   "id": "3ca6955c",
   "metadata": {},
   "outputs": [],
   "source": []
  },
  {
   "cell_type": "code",
   "execution_count": null,
   "id": "af3ee550",
   "metadata": {},
   "outputs": [],
   "source": []
  },
  {
   "cell_type": "code",
   "execution_count": null,
   "id": "23bbf144",
   "metadata": {},
   "outputs": [],
   "source": []
  },
  {
   "cell_type": "markdown",
   "id": "e6820656",
   "metadata": {},
   "source": [
    "# Part 3: TF-IDF."
   ]
  },
  {
   "cell_type": "markdown",
   "id": "e083ada4",
   "metadata": {},
   "source": [
    "## Exercise 4: TF-IDF and the Computational Social Science communities. The goal for this exercise is to find the words charachterizing each of the communities of Computational Social Scientists. What you ned for this exercise:"
   ]
  },
  {
   "cell_type": "code",
   "execution_count": null,
   "id": "69e4418e",
   "metadata": {},
   "outputs": [],
   "source": []
  },
  {
   "cell_type": "code",
   "execution_count": null,
   "id": "b1ace53e",
   "metadata": {},
   "outputs": [],
   "source": []
  },
  {
   "cell_type": "code",
   "execution_count": null,
   "id": "be0dac96",
   "metadata": {},
   "outputs": [],
   "source": []
  },
  {
   "cell_type": "code",
   "execution_count": null,
   "id": "f815c98f",
   "metadata": {},
   "outputs": [],
   "source": []
  }
 ],
 "metadata": {
  "kernelspec": {
   "display_name": "Python 3 (ipykernel)",
   "language": "python",
   "name": "python3"
  },
  "language_info": {
   "codemirror_mode": {
    "name": "ipython",
    "version": 3
   },
   "file_extension": ".py",
   "mimetype": "text/x-python",
   "name": "python",
   "nbconvert_exporter": "python",
   "pygments_lexer": "ipython3",
   "version": "3.9.7"
  }
 },
 "nbformat": 4,
 "nbformat_minor": 5
}
