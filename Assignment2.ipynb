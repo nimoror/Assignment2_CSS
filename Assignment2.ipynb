{
 "cells": [
  {
   "cell_type": "markdown",
   "id": "1031e568",
   "metadata": {},
   "source": [
    "### We hereby state that each of the group members contributed approximately a third to the assignment.\n",
    "### github repo: https://github.com/nimoror/Assignment2_CSS"
   ]
  },
  {
   "cell_type": "code",
   "execution_count": 5,
   "id": "9a0be568",
   "metadata": {},
   "outputs": [],
   "source": [
    "# imports\n",
    "import pandas as pd\n",
    "import os\n",
    "import networkx as nx\n",
    "import matplotlib.pyplot as plt\n",
    "import numpy as np\n",
    "from scipy import stats"
   ]
  },
  {
   "cell_type": "markdown",
   "id": "e8068326",
   "metadata": {},
   "source": [
    "# Part 1: Mixing Patterns and Assortativity\n"
   ]
  },
  {
   "cell_type": "code",
   "execution_count": 4,
   "id": "7df9b4c2",
   "metadata": {},
   "outputs": [],
   "source": [
    "#load the graph\n",
    "G = nx.read_gpickle(\"css_graph.gpickle\")"
   ]
  },
  {
   "cell_type": "markdown",
   "id": "d448d9b2",
   "metadata": {},
   "source": [
    "## Exercise 1: Mixing Patterns and Assortativity.\n",
    "\n",
    "### For each node, compute the fraction of edges that connect to a node that works in the same top field. Find the average value across all nodes."
   ]
  },
  {
   "cell_type": "code",
   "execution_count": null,
   "id": "80355d25",
   "metadata": {},
   "outputs": [],
   "source": []
  },
  {
   "cell_type": "code",
   "execution_count": null,
   "id": "c57599db",
   "metadata": {},
   "outputs": [],
   "source": []
  },
  {
   "cell_type": "code",
   "execution_count": null,
   "id": "4da27237",
   "metadata": {},
   "outputs": [],
   "source": []
  },
  {
   "cell_type": "code",
   "execution_count": null,
   "id": "d5ae41f5",
   "metadata": {},
   "outputs": [],
   "source": []
  },
  {
   "cell_type": "code",
   "execution_count": null,
   "id": "70bf5fda",
   "metadata": {},
   "outputs": [],
   "source": []
  },
  {
   "cell_type": "markdown",
   "id": "06ff8378",
   "metadata": {},
   "source": [
    "# Part 2: Communities"
   ]
  },
  {
   "cell_type": "markdown",
   "id": "426c8a27",
   "metadata": {},
   "source": [
    "## Exercise 2: Zachary's karate club: In this exercise, we will work on Zarachy's karate club graph (refer to the Introduction of Chapter 9). The dataset is available in NetworkX, by calling the function karate_club_graph"
   ]
  },
  {
   "cell_type": "markdown",
   "id": "7b2d6d6e",
   "metadata": {},
   "source": [
    "### 1. Visualize the graph using netwulf. Set the color of each node based on the club split (the information is stored as a node attribute). My version of the visualization is below."
   ]
  },
  {
   "cell_type": "code",
   "execution_count": null,
   "id": "e3c1f2e6",
   "metadata": {},
   "outputs": [],
   "source": []
  },
  {
   "cell_type": "code",
   "execution_count": null,
   "id": "ba2315d5",
   "metadata": {},
   "outputs": [],
   "source": []
  },
  {
   "cell_type": "code",
   "execution_count": null,
   "id": "481f0db9",
   "metadata": {},
   "outputs": [],
   "source": []
  },
  {
   "cell_type": "code",
   "execution_count": null,
   "id": "311305c2",
   "metadata": {},
   "outputs": [],
   "source": []
  },
  {
   "cell_type": "code",
   "execution_count": null,
   "id": "36a509f6",
   "metadata": {},
   "outputs": [],
   "source": []
  },
  {
   "cell_type": "markdown",
   "id": "41f60570",
   "metadata": {},
   "source": [
    "# Part 3: TF-IDF."
   ]
  },
  {
   "cell_type": "markdown",
   "id": "85ce43d9",
   "metadata": {},
   "source": [
    "## Exercise 4: TF-IDF and the Computational Social Science communities. The goal for this exercise is to find the words charachterizing each of the communities of Computational Social Scientists. What you ned for this exercise:"
   ]
  },
  {
   "cell_type": "code",
   "execution_count": null,
   "id": "7591ad3d",
   "metadata": {},
   "outputs": [],
   "source": []
  },
  {
   "cell_type": "code",
   "execution_count": null,
   "id": "44daaab1",
   "metadata": {},
   "outputs": [],
   "source": []
  },
  {
   "cell_type": "code",
   "execution_count": null,
   "id": "75e64635",
   "metadata": {},
   "outputs": [],
   "source": []
  },
  {
   "cell_type": "code",
   "execution_count": null,
   "id": "0dd19d06",
   "metadata": {},
   "outputs": [],
   "source": []
  }
 ],
 "metadata": {
  "kernelspec": {
   "display_name": "Python 3 (ipykernel)",
   "language": "python",
   "name": "python3"
  },
  "language_info": {
   "codemirror_mode": {
    "name": "ipython",
    "version": 3
   },
   "file_extension": ".py",
   "mimetype": "text/x-python",
   "name": "python",
   "nbconvert_exporter": "python",
   "pygments_lexer": "ipython3",
   "version": "3.9.7"
  }
 },
 "nbformat": 4,
 "nbformat_minor": 5
}
