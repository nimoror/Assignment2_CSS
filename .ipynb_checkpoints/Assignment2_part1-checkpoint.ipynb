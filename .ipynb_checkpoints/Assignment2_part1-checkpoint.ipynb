{
 "cells": [
  {
   "cell_type": "markdown",
<<<<<<< HEAD
   "id": "3f61f8a4",
   "metadata": {},
   "source": [
    "# Assignment 2"
=======
   "id": "3b9b2bd6",
   "metadata": {},
   "source": [
    "### We hereby state that each of the group members contributed approximately a third to the assignment.\n",
    "### github repo: https://github.com/nimoror/Assignment2_CSS"
>>>>>>> 09d2f4b6177cee25781174f03f3d4618e91c8aba
   ]
  },
  {
   "cell_type": "markdown",
<<<<<<< HEAD
   "id": "0be89347",
   "metadata": {},
   "source": [
    "## Part 1: XXX"
   ]
  },
  {
   "cell_type": "code",
   "execution_count": 1,
   "id": "c93097e6",
   "metadata": {},
   "outputs": [],
   "source": [
    "#Imports\n",
    "import pandas as pd\n",
    "import os\n",
    "import networkx as nx\n",
    "import matplotlib.pyplot as plt\n",
    "import numpy as np\n",
    "from scipy import stats\n",
    "import nltk"
=======
   "id": "fcda0ac1",
   "metadata": {},
   "source": [
    "# Part 1: Mixing Patterns and Assortativity\n"
   ]
  },
  {
   "cell_type": "markdown",
   "id": "0dee982d",
   "metadata": {},
   "source": [
    "## Exercise 1: Mixing Patterns and Assortativity.\n",
    "\n",
    "### For each node, compute the fraction of edges that connect to a node that works in the same top field. Find the average value across all nodes."
>>>>>>> 09d2f4b6177cee25781174f03f3d4618e91c8aba
   ]
  },
  {
   "cell_type": "code",
   "execution_count": null,
<<<<<<< HEAD
   "id": "b6b231b8",
=======
   "id": "f9fee852",
>>>>>>> 09d2f4b6177cee25781174f03f3d4618e91c8aba
   "metadata": {},
   "outputs": [],
   "source": []
  },
  {
   "cell_type": "code",
   "execution_count": null,
<<<<<<< HEAD
   "id": "ef21eb31",
=======
   "id": "dab20b8d",
   "metadata": {},
   "outputs": [],
   "source": []
  },
  {
   "cell_type": "code",
   "execution_count": null,
   "id": "e1ac7754",
   "metadata": {},
   "outputs": [],
   "source": []
  },
  {
   "cell_type": "code",
   "execution_count": null,
   "id": "d899488e",
   "metadata": {},
   "outputs": [],
   "source": []
  },
  {
   "cell_type": "code",
   "execution_count": null,
   "id": "67fdc068",
>>>>>>> 09d2f4b6177cee25781174f03f3d4618e91c8aba
   "metadata": {},
   "outputs": [],
   "source": []
  },
  {
   "cell_type": "markdown",
<<<<<<< HEAD
   "id": "9851364e",
   "metadata": {},
   "source": [
    "Type question from the assignment here\n",
    "> Type the answer here..."
=======
   "id": "76efe2bf",
   "metadata": {},
   "source": [
    "# Part 2: Communities"
   ]
  },
  {
   "cell_type": "markdown",
   "id": "e7cdfff4",
   "metadata": {},
   "source": [
    "## Exercise 2: Zachary's karate club: In this exercise, we will work on Zarachy's karate club graph (refer to the Introduction of Chapter 9). The dataset is available in NetworkX, by calling the function karate_club_graph"
   ]
  },
  {
   "cell_type": "markdown",
   "id": "9be4ced9",
   "metadata": {},
   "source": [
    "### 1. Visualize the graph using netwulf. Set the color of each node based on the club split (the information is stored as a node attribute). My version of the visualization is below."
>>>>>>> 09d2f4b6177cee25781174f03f3d4618e91c8aba
   ]
  },
  {
   "cell_type": "code",
   "execution_count": null,
<<<<<<< HEAD
   "id": "faa1b50b",
=======
   "id": "ba20dc48",
>>>>>>> 09d2f4b6177cee25781174f03f3d4618e91c8aba
   "metadata": {},
   "outputs": [],
   "source": []
  },
  {
   "cell_type": "code",
   "execution_count": null,
<<<<<<< HEAD
   "id": "33b83ff7",
=======
   "id": "2c790240",
>>>>>>> 09d2f4b6177cee25781174f03f3d4618e91c8aba
   "metadata": {},
   "outputs": [],
   "source": []
  },
  {
   "cell_type": "code",
   "execution_count": null,
<<<<<<< HEAD
   "id": "0b2b20c9",
=======
   "id": "3ca6955c",
>>>>>>> 09d2f4b6177cee25781174f03f3d4618e91c8aba
   "metadata": {},
   "outputs": [],
   "source": []
  },
  {
   "cell_type": "code",
   "execution_count": null,
<<<<<<< HEAD
   "id": "5a6bcb83",
=======
   "id": "af3ee550",
   "metadata": {},
   "outputs": [],
   "source": []
  },
  {
   "cell_type": "code",
   "execution_count": null,
   "id": "23bbf144",
>>>>>>> 09d2f4b6177cee25781174f03f3d4618e91c8aba
   "metadata": {},
   "outputs": [],
   "source": []
  },
  {
   "cell_type": "markdown",
<<<<<<< HEAD
   "id": "38f4238c",
   "metadata": {},
   "source": [
    "## Part 2: XXX"
=======
   "id": "e6820656",
   "metadata": {},
   "source": [
    "# Part 3: TF-IDF."
   ]
  },
  {
   "cell_type": "markdown",
   "id": "e083ada4",
   "metadata": {},
   "source": [
    "## Exercise 4: TF-IDF and the Computational Social Science communities. The goal for this exercise is to find the words charachterizing each of the communities of Computational Social Scientists. What you ned for this exercise:"
>>>>>>> 09d2f4b6177cee25781174f03f3d4618e91c8aba
   ]
  },
  {
   "cell_type": "code",
   "execution_count": null,
<<<<<<< HEAD
   "id": "a9d2b285",
=======
   "id": "69e4418e",
>>>>>>> 09d2f4b6177cee25781174f03f3d4618e91c8aba
   "metadata": {},
   "outputs": [],
   "source": []
  },
  {
   "cell_type": "code",
   "execution_count": null,
<<<<<<< HEAD
   "id": "b9b6651d",
=======
   "id": "b1ace53e",
>>>>>>> 09d2f4b6177cee25781174f03f3d4618e91c8aba
   "metadata": {},
   "outputs": [],
   "source": []
  },
  {
   "cell_type": "code",
   "execution_count": null,
<<<<<<< HEAD
   "id": "5e440884",
=======
   "id": "be0dac96",
   "metadata": {},
   "outputs": [],
   "source": []
  },
  {
   "cell_type": "code",
   "execution_count": null,
   "id": "f815c98f",
>>>>>>> 09d2f4b6177cee25781174f03f3d4618e91c8aba
   "metadata": {},
   "outputs": [],
   "source": []
  }
 ],
 "metadata": {
  "kernelspec": {
   "display_name": "Python 3 (ipykernel)",
   "language": "python",
   "name": "python3"
  },
  "language_info": {
   "codemirror_mode": {
    "name": "ipython",
    "version": 3
   },
   "file_extension": ".py",
   "mimetype": "text/x-python",
   "name": "python",
   "nbconvert_exporter": "python",
   "pygments_lexer": "ipython3",
<<<<<<< HEAD
   "version": "3.9.12"
=======
   "version": "3.9.7"
>>>>>>> 09d2f4b6177cee25781174f03f3d4618e91c8aba
  }
 },
 "nbformat": 4,
 "nbformat_minor": 5
}
