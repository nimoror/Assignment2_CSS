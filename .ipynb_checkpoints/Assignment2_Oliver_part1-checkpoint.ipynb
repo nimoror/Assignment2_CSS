{
 "cells": [
  {
   "cell_type": "markdown",
   "id": "af7f4119",
   "metadata": {},
   "source": [
    "link to github: https://github.com/nimoror/Assignment2_CSS\n",
    "Contribution statement\n",
    "* Part 1:\n",
    "* Part 2:\n",
    "* Part 3:"
   ]
  },
  {
   "cell_type": "markdown",
   "id": "8e612d75",
   "metadata": {},
   "source": [
    "# Assignment 2"
   ]
  },
  {
   "cell_type": "markdown",
   "id": "4e32a6e7",
   "metadata": {},
   "source": [
    "## Part 1: Mixing Patterns and Assortativity"
   ]
  },
  {
   "cell_type": "code",
   "execution_count": 25,
   "id": "727bb975",
   "metadata": {},
   "outputs": [],
   "source": [
    "#imports\n",
    "import networkx as nx\n",
    "import netwulf as nw\n",
    "import matplotlib.pyplot as plt\n",
    "import numpy as np\n",
    "import random\n",
    "import matplotlib.colors as mcolors\n",
    "import math\n",
    "import statistics\n",
    "import random\n",
    "from scipy.stats import ttest_1samp"
   ]
  },
  {
   "cell_type": "code",
   "execution_count": 26,
   "id": "d963030a",
   "metadata": {},
   "outputs": [],
   "source": [
    "#Import the network\n",
    "G = nx.read_gpickle(\"css_graph.gpickle\")\n",
    "\n",
    "#Extarct the largets connected component from the network and save it as the new network\n",
    "components = list(nx.connected_components(G))\n",
    "largest_component = max(components, key=len)\n",
    "G = G.subgraph(largest_component)"
   ]
  },
  {
   "cell_type": "markdown",
   "id": "2b925e1c",
   "metadata": {},
   "source": [
    "* For each node, compute the fraction of edges that connect to a node that works in the same top field. Find the average value across all nodes."
   ]
  },
  {
   "cell_type": "code",
   "execution_count": 27,
   "id": "405acfb1",
   "metadata": {},
   "outputs": [],
   "source": [
    "#Make all missing top_fields = None\n",
    "for author in G.nodes:\n",
    "    if 'top_field' not in G.nodes[author]:\n",
    "        G.nodes[author]['top_field'] = None"
   ]
  },
  {
   "cell_type": "code",
   "execution_count": 32,
   "id": "5b4f1445",
   "metadata": {},
   "outputs": [
    {
     "name": "stdout",
     "output_type": "stream",
     "text": [
      "The network mean of the fraction of connections to authors in the same field is: 0.3918154061737561\n",
      "Here is a subset of the fractions of connections to authors in the same field\n"
     ]
    },
    {
     "data": {
      "text/plain": [
       "[('2111327172', 0.625),\n",
       " ('2112358410', 0.6666666666666666),\n",
       " ('1405454261', 0.14285714285714285),\n",
       " ('2820321', 0.14285714285714285),\n",
       " ('49396408', 0)]"
      ]
     },
     "execution_count": 32,
     "metadata": {},
     "output_type": "execute_result"
    }
   ],
   "source": [
    "#Compute average neighboors in same top field as each node\n",
    "def network_mean_same_field(top_fild_name):\n",
    "    for author in G.nodes:\n",
    "        G.nodes[author]['Avr_same_field'] = mean_same_field = statistics.mean(map(int, [G.nodes[author][top_fild_name] == field for field \n",
    "              in [G.nodes[neighboor][top_fild_name] for neighboor \n",
    "                  in G.neighbors(author)]]))\n",
    "    \n",
    "    #network average\n",
    "    network_mean = statistics.mean(map(float, [G.nodes[author]['Avr_same_field'] for author in G.nodes]))\n",
    "    return network_mean\n",
    "\n",
    "network_mean = network_mean_same_field('top_field')\n",
    "print('The network mean of the fraction of connections to authors in the same field is: ' + str(network_mean))\n",
    "print('Here is a subset of the fractions of connections to authors in the same field')\n",
    "list(nx.get_node_attributes(G, \"Avr_same_field\").items())[:5]"
   ]
  },
  {
   "cell_type": "markdown",
   "id": "cad96e25",
   "metadata": {},
   "source": [
    "* Repeat the point above 100 times (at least). Plot the distribution of the values obtained and compare it with the value you have found for the real graph. Is the chance to connect to a member of the same field significantly higher than it would be by chance?"
   ]
  },
  {
   "cell_type": "code",
   "execution_count": 10,
   "id": "fd8e4ff6",
   "metadata": {},
   "outputs": [],
   "source": [
    "#Create a function to randomise the top fields node assignments\n",
    "top_fields = list(nx.get_node_attributes(G, \"top_field\").values())\n",
    "def randomise_top_fields_rand():\n",
    "    random.shuffle(top_fields)\n",
    "    for i, author in enumerate(G.nodes):\n",
    "        G.nodes[author]['top_field_rand'] = top_fields[i]"
   ]
  },
  {
   "cell_type": "code",
   "execution_count": 11,
   "id": "d785a9f7",
   "metadata": {},
   "outputs": [],
   "source": [
    "#Compute average neighboors in same top field as each node 100 times for random top fields\n",
    "rand_means = [] \n",
    "for i in range(100):\n",
    "    randomise_top_fields_rand()\n",
    "    rand_means.append(network_mean_same_field('top_field_rand'))\n",
    "    \n",
    "#rand_means\n"
   ]
  },
  {
   "cell_type": "code",
   "execution_count": 12,
   "id": "1b3e3f80",
   "metadata": {},
   "outputs": [
    {
     "data": {
      "text/plain": [
       "2.44291156410431e-124"
      ]
     },
     "execution_count": 12,
     "metadata": {},
     "output_type": "execute_result"
    }
   ],
   "source": [
    "#compute the p-value for the null-hypothesis that out network mean occured by random... The p-value is extreemly low\n",
    "t_stat, p_value = ttest_1samp(rand_means, network_mean)\n",
    "p_value"
   ]
  },
  {
   "cell_type": "code",
   "execution_count": 13,
   "id": "87d1cedb",
   "metadata": {},
   "outputs": [
    {
     "data": {
      "text/plain": [
       "0.18187918166360734"
      ]
     },
     "execution_count": 13,
     "metadata": {},
     "output_type": "execute_result"
    }
   ],
   "source": [
    "#assortativity_coefficient wrt. field\n",
    "nx.attribute_assortativity_coefficient(G, 'top_field')\n",
    "#The positive value of r indicates that authors with the same top field are more likely to connect to each other \n",
    "#than to authors with the same top fields\n"
   ]
  },
  {
   "cell_type": "code",
   "execution_count": 14,
   "id": "c9127c17",
   "metadata": {},
   "outputs": [
    {
     "data": {
      "text/plain": [
       "0.14104404760625552"
      ]
     },
     "execution_count": 14,
     "metadata": {},
     "output_type": "execute_result"
    }
   ],
   "source": [
    "#assortativity_coefficient wrt. degree (default)\n",
    "nx.degree_assortativity_coefficient(G)\n",
    "#The positive value of r mean s taht the network is aasortative wrt degree i.e. authors with similar degrees are more likely to connect to each other \n",
    "#than to authors with differetn degrees\n"
   ]
  },
  {
   "cell_type": "code",
   "execution_count": null,
   "id": "be6d5994",
   "metadata": {},
   "outputs": [],
   "source": []
  }
 ],
 "metadata": {
  "kernelspec": {
   "display_name": "Python 3 (ipykernel)",
   "language": "python",
   "name": "python3"
  },
  "language_info": {
   "codemirror_mode": {
    "name": "ipython",
    "version": 3
   },
   "file_extension": ".py",
   "mimetype": "text/x-python",
   "name": "python",
   "nbconvert_exporter": "python",
   "pygments_lexer": "ipython3",
   "version": "3.9.12"
  }
 },
 "nbformat": 4,
 "nbformat_minor": 5
}
