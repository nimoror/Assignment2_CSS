{
 "cells": [
  {
   "cell_type": "code",
   "execution_count": 1,
   "id": "a125889c",
   "metadata": {},
   "outputs": [],
   "source": [
    "import pandas as pd\n",
    "import os\n",
    "from scipy.interpolate import make_interp_spline\n",
    "from matplotlib import pyplot as plt\n",
    "from matplotlib.pyplot import figure\n",
    "import numpy as np"
   ]
  },
  {
   "cell_type": "code",
   "execution_count": 2,
   "id": "1b0c72be",
   "metadata": {},
   "outputs": [
    {
     "data": {
      "text/plain": [
       "['.gitignore',\n",
       " '.ipynb_checkpoints',\n",
       " 'css_graph.gpickle',\n",
       " 'Papers_AbsTokens.txt',\n",
       " 'paper_subset',\n",
       " 'README.md',\n",
       " 'Week 4 - Networks I.ipynb',\n",
       " 'Week 5 - full_css_network.png',\n",
       " 'Week 5 - full_css_network_colored.png',\n",
       " 'Week 5 - lcc_network.png',\n",
       " 'Week 5 - Networks II.ipynb',\n",
       " 'Week6.ipynb',\n",
       " 'Week7-Copy1.ipynb',\n",
       " 'Week7-Copy2.ipynb',\n",
       " 'Week7.ipynb']"
      ]
     },
     "execution_count": 2,
     "metadata": {},
     "output_type": "execute_result"
    }
   ],
   "source": [
    "os.listdir()"
   ]
  },
  {
   "cell_type": "code",
   "execution_count": 3,
   "id": "3aee41a7",
   "metadata": {},
   "outputs": [
    {
     "data": {
      "text/html": [
       "<div>\n",
       "<style scoped>\n",
       "    .dataframe tbody tr th:only-of-type {\n",
       "        vertical-align: middle;\n",
       "    }\n",
       "\n",
       "    .dataframe tbody tr th {\n",
       "        vertical-align: top;\n",
       "    }\n",
       "\n",
       "    .dataframe thead th {\n",
       "        text-align: right;\n",
       "    }\n",
       "</style>\n",
       "<table border=\"1\" class=\"dataframe\">\n",
       "  <thead>\n",
       "    <tr style=\"text-align: right;\">\n",
       "      <th></th>\n",
       "      <th>Unnamed: 0</th>\n",
       "      <th>paperId</th>\n",
       "      <th>title</th>\n",
       "      <th>year</th>\n",
       "      <th>citationCount</th>\n",
       "      <th>externalIds.DOI</th>\n",
       "      <th>keywords</th>\n",
       "      <th>authorIds</th>\n",
       "      <th>author_fields</th>\n",
       "      <th>Abstract</th>\n",
       "      <th>Tokens Abstract</th>\n",
       "    </tr>\n",
       "  </thead>\n",
       "  <tbody>\n",
       "    <tr>\n",
       "      <th>0</th>\n",
       "      <td>1</td>\n",
       "      <td>b30d4b44131698820ed05bcf7fb62c8fc6201672</td>\n",
       "      <td>Developing recommendations for designing smart...</td>\n",
       "      <td>2019</td>\n",
       "      <td>1.0</td>\n",
       "      <td>NaN</td>\n",
       "      <td>['Computer Science', 'Sociology']</td>\n",
       "      <td>['1788563']</td>\n",
       "      <td>['Computer Science']</td>\n",
       "      <td>Cultural heritage carries the historical value...</td>\n",
       "      <td>['cultural', 'heritage', 'carries', 'historica...</td>\n",
       "    </tr>\n",
       "    <tr>\n",
       "      <th>1</th>\n",
       "      <td>2</td>\n",
       "      <td>9d59892c5657098bd3825116af8fad8d8ee943ff</td>\n",
       "      <td>Group Fairness for Indivisible Goods Allocation</td>\n",
       "      <td>2019</td>\n",
       "      <td>4.0</td>\n",
       "      <td>NaN</td>\n",
       "      <td>['Economics', 'Computer Science']</td>\n",
       "      <td>['1749906', '4006636']</td>\n",
       "      <td>['Economics', 'Computer Science']</td>\n",
       "      <td>We consider the problem of fairly dividing a c...</td>\n",
       "      <td>['consider', 'problem', 'fairly', 'dividing', ...</td>\n",
       "    </tr>\n",
       "    <tr>\n",
       "      <th>2</th>\n",
       "      <td>3</td>\n",
       "      <td>867cc74781225da4e08a77fc35037ba77911e455</td>\n",
       "      <td>Hindsight Credit Assignment</td>\n",
       "      <td>2019</td>\n",
       "      <td>37.0</td>\n",
       "      <td>NaN</td>\n",
       "      <td>['Economics', 'Computer Science']</td>\n",
       "      <td>['37666967', '144368601', '2605877', '3134710']</td>\n",
       "      <td>['Computer Science', 'Computer Science', 'Comp...</td>\n",
       "      <td>We consider the problem of efficient credit as...</td>\n",
       "      <td>['consider', 'problem', 'efficient', 'credit',...</td>\n",
       "    </tr>\n",
       "    <tr>\n",
       "      <th>3</th>\n",
       "      <td>4</td>\n",
       "      <td>37a0f28f6aa41028e64d0440001ff525d67c1305</td>\n",
       "      <td>The Constrained Round Robin Algorithm for Fair...</td>\n",
       "      <td>2019</td>\n",
       "      <td>9.0</td>\n",
       "      <td>NaN</td>\n",
       "      <td>['Economics', 'Computer Science']</td>\n",
       "      <td>['144433798', '143999398']</td>\n",
       "      <td>['Economics', 'Computer Science']</td>\n",
       "      <td>We consider a multi-agent resource allocation ...</td>\n",
       "      <td>['consider', 'multi-agent', 'resource allocati...</td>\n",
       "    </tr>\n",
       "    <tr>\n",
       "      <th>4</th>\n",
       "      <td>5</td>\n",
       "      <td>894b376090e1e843c79211603814ccbcab09f632</td>\n",
       "      <td>Interpretable Almost Matching Exactly With Ins...</td>\n",
       "      <td>2019</td>\n",
       "      <td>5.0</td>\n",
       "      <td>NaN</td>\n",
       "      <td>['Economics', 'Computer Science']</td>\n",
       "      <td>['31938009', '48395540', '6974508']</td>\n",
       "      <td>['Computer Science', 'Computer Science', 'Comp...</td>\n",
       "      <td>Uncertainty in the estimation of the causal ef...</td>\n",
       "      <td>['uncertainty', 'estimation', 'causal', 'effec...</td>\n",
       "    </tr>\n",
       "    <tr>\n",
       "      <th>5</th>\n",
       "      <td>6</td>\n",
       "      <td>e15aea4ce4383a3fec52f90e6aaed5e457059020</td>\n",
       "      <td>Giant descendant trees and matching sets in th...</td>\n",
       "      <td>2019</td>\n",
       "      <td>1.0</td>\n",
       "      <td>NaN</td>\n",
       "      <td>['Mathematics', 'Economics']</td>\n",
       "      <td>['1709874']</td>\n",
       "      <td>['Mathematics']</td>\n",
       "      <td>We study the $\\delta$-version of the preferent...</td>\n",
       "      <td>['study', '\\\\delta', '-version', 'preferential...</td>\n",
       "    </tr>\n",
       "    <tr>\n",
       "      <th>6</th>\n",
       "      <td>7</td>\n",
       "      <td>1b2b319c88a3d0a4b220bf2bf5b1d6632b7ad7bc</td>\n",
       "      <td>Efficient Allocation of Free Stuff</td>\n",
       "      <td>2019</td>\n",
       "      <td>2.0</td>\n",
       "      <td>NaN</td>\n",
       "      <td>['Economics', 'Computer Science']</td>\n",
       "      <td>['1684176', '145354960']</td>\n",
       "      <td>['Computer Science', 'Computer Science']</td>\n",
       "      <td>We study online matching settings with selfish...</td>\n",
       "      <td>['study', 'online', 'matching', 'settings', 's...</td>\n",
       "    </tr>\n",
       "    <tr>\n",
       "      <th>7</th>\n",
       "      <td>8</td>\n",
       "      <td>f0f6b42265feb5dd4200fdadf7529246e9a95ffc</td>\n",
       "      <td>Statistical experiments form a general framewo...</td>\n",
       "      <td>2019</td>\n",
       "      <td>0.0</td>\n",
       "      <td>NaN</td>\n",
       "      <td>['Computer Science', 'Economics']</td>\n",
       "      <td>['2450616', '1740329']</td>\n",
       "      <td>['Economics', 'Mathematics']</td>\n",
       "      <td>We study repeated independent Blackwell experi...</td>\n",
       "      <td>['study', 'repeated', 'independent', 'blackwel...</td>\n",
       "    </tr>\n",
       "    <tr>\n",
       "      <th>8</th>\n",
       "      <td>9</td>\n",
       "      <td>89dbd5f282bae0317c0f85d64462b273dc27ebd7</td>\n",
       "      <td>Automatic Techniques to Systematically Discove...</td>\n",
       "      <td>2019</td>\n",
       "      <td>20.0</td>\n",
       "      <td>NaN</td>\n",
       "      <td>['Computer Science', 'Economics']</td>\n",
       "      <td>['3254849']</td>\n",
       "      <td>['Computer Science']</td>\n",
       "      <td>Heap exploitation techniques to abuse the meta...</td>\n",
       "      <td>['heap', 'exploitation', 'techniques', 'abuse'...</td>\n",
       "    </tr>\n",
       "    <tr>\n",
       "      <th>9</th>\n",
       "      <td>10</td>\n",
       "      <td>75d918b05a021d534c624e7736d6d378c4d0751c</td>\n",
       "      <td>Optimal Bribery in Voting</td>\n",
       "      <td>2019</td>\n",
       "      <td>2.0</td>\n",
       "      <td>NaN</td>\n",
       "      <td>['Economics', 'Computer Science']</td>\n",
       "      <td>['143892297']</td>\n",
       "      <td>['Computer Science']</td>\n",
       "      <td>Studying complexity of various bribery problem...</td>\n",
       "      <td>['studying', 'complexity', 'various', 'bribery...</td>\n",
       "    </tr>\n",
       "    <tr>\n",
       "      <th>10</th>\n",
       "      <td>11</td>\n",
       "      <td>e173a83ef073130b9b55d7650711919a57ac37eb</td>\n",
       "      <td>Local Distance Restricted Bribery in Voting Ex...</td>\n",
       "      <td>2019</td>\n",
       "      <td>0.0</td>\n",
       "      <td>NaN</td>\n",
       "      <td>['Computer Science', 'Economics']</td>\n",
       "      <td>['143892297']</td>\n",
       "      <td>['Computer Science']</td>\n",
       "      <td>Studying complexity of various bribery problem...</td>\n",
       "      <td>['studying', 'complexity', 'various', 'bribery...</td>\n",
       "    </tr>\n",
       "    <tr>\n",
       "      <th>11</th>\n",
       "      <td>12</td>\n",
       "      <td>f6fc736bdf3ec3b8e29de4fc90cd90d2761dc6af</td>\n",
       "      <td>Local Distance Restricted Bribery in Voting</td>\n",
       "      <td>2019</td>\n",
       "      <td>5.0</td>\n",
       "      <td>NaN</td>\n",
       "      <td>['Computer Science', 'Economics']</td>\n",
       "      <td>['143892297']</td>\n",
       "      <td>['Computer Science']</td>\n",
       "      <td>Studying complexity of various bribery problem...</td>\n",
       "      <td>['studying', 'complexity', 'various', 'bribery...</td>\n",
       "    </tr>\n",
       "    <tr>\n",
       "      <th>12</th>\n",
       "      <td>13</td>\n",
       "      <td>f7f87f8caef51a904c511681513694ee9aba930a</td>\n",
       "      <td>Tensor-based Method for Temporal Geopolitical ...</td>\n",
       "      <td>2019</td>\n",
       "      <td>5.0</td>\n",
       "      <td>NaN</td>\n",
       "      <td>['Sociology', 'Computer Science']</td>\n",
       "      <td>['143728483', '35416435', '1389570466', '27755...</td>\n",
       "      <td>['Computer Science', 'Computer Science', 'Comp...</td>\n",
       "      <td>Many political and societal factors can affect...</td>\n",
       "      <td>['many', 'political', 'societal', 'factors', '...</td>\n",
       "    </tr>\n",
       "    <tr>\n",
       "      <th>13</th>\n",
       "      <td>14</td>\n",
       "      <td>82f59f0c221efaa30d73cfcd464d675514c95699</td>\n",
       "      <td>Strategic Adaptation to Classifiers: A Causal ...</td>\n",
       "      <td>2019</td>\n",
       "      <td>10.0</td>\n",
       "      <td>NaN</td>\n",
       "      <td>['Computer Science', 'Economics']</td>\n",
       "      <td>['1775622', '1489216270']</td>\n",
       "      <td>['Computer Science', 'Computer Science']</td>\n",
       "      <td>Consequential decision-making incentivizes ind...</td>\n",
       "      <td>['consequential', 'decision-making', 'incentiv...</td>\n",
       "    </tr>\n",
       "    <tr>\n",
       "      <th>14</th>\n",
       "      <td>15</td>\n",
       "      <td>eaf878420712e98e4a76cdae3bb231faaac5931c</td>\n",
       "      <td>Strategic Classification is Causal Modeling in...</td>\n",
       "      <td>2019</td>\n",
       "      <td>61.0</td>\n",
       "      <td>NaN</td>\n",
       "      <td>['Economics', 'Computer Science']</td>\n",
       "      <td>['1775622', '1489216270']</td>\n",
       "      <td>['Computer Science', 'Computer Science']</td>\n",
       "      <td>Consequential decision-making incentivizes ind...</td>\n",
       "      <td>['consequential', 'decision-making', 'incentiv...</td>\n",
       "    </tr>\n",
       "  </tbody>\n",
       "</table>\n",
       "</div>"
      ],
      "text/plain": [
       "    Unnamed: 0                                   paperId  \\\n",
       "0            1  b30d4b44131698820ed05bcf7fb62c8fc6201672   \n",
       "1            2  9d59892c5657098bd3825116af8fad8d8ee943ff   \n",
       "2            3  867cc74781225da4e08a77fc35037ba77911e455   \n",
       "3            4  37a0f28f6aa41028e64d0440001ff525d67c1305   \n",
       "4            5  894b376090e1e843c79211603814ccbcab09f632   \n",
       "5            6  e15aea4ce4383a3fec52f90e6aaed5e457059020   \n",
       "6            7  1b2b319c88a3d0a4b220bf2bf5b1d6632b7ad7bc   \n",
       "7            8  f0f6b42265feb5dd4200fdadf7529246e9a95ffc   \n",
       "8            9  89dbd5f282bae0317c0f85d64462b273dc27ebd7   \n",
       "9           10  75d918b05a021d534c624e7736d6d378c4d0751c   \n",
       "10          11  e173a83ef073130b9b55d7650711919a57ac37eb   \n",
       "11          12  f6fc736bdf3ec3b8e29de4fc90cd90d2761dc6af   \n",
       "12          13  f7f87f8caef51a904c511681513694ee9aba930a   \n",
       "13          14  82f59f0c221efaa30d73cfcd464d675514c95699   \n",
       "14          15  eaf878420712e98e4a76cdae3bb231faaac5931c   \n",
       "\n",
       "                                                title  year  citationCount  \\\n",
       "0   Developing recommendations for designing smart...  2019            1.0   \n",
       "1     Group Fairness for Indivisible Goods Allocation  2019            4.0   \n",
       "2                         Hindsight Credit Assignment  2019           37.0   \n",
       "3   The Constrained Round Robin Algorithm for Fair...  2019            9.0   \n",
       "4   Interpretable Almost Matching Exactly With Ins...  2019            5.0   \n",
       "5   Giant descendant trees and matching sets in th...  2019            1.0   \n",
       "6                  Efficient Allocation of Free Stuff  2019            2.0   \n",
       "7   Statistical experiments form a general framewo...  2019            0.0   \n",
       "8   Automatic Techniques to Systematically Discove...  2019           20.0   \n",
       "9                           Optimal Bribery in Voting  2019            2.0   \n",
       "10  Local Distance Restricted Bribery in Voting Ex...  2019            0.0   \n",
       "11        Local Distance Restricted Bribery in Voting  2019            5.0   \n",
       "12  Tensor-based Method for Temporal Geopolitical ...  2019            5.0   \n",
       "13  Strategic Adaptation to Classifiers: A Causal ...  2019           10.0   \n",
       "14  Strategic Classification is Causal Modeling in...  2019           61.0   \n",
       "\n",
       "    externalIds.DOI                           keywords  \\\n",
       "0               NaN  ['Computer Science', 'Sociology']   \n",
       "1               NaN  ['Economics', 'Computer Science']   \n",
       "2               NaN  ['Economics', 'Computer Science']   \n",
       "3               NaN  ['Economics', 'Computer Science']   \n",
       "4               NaN  ['Economics', 'Computer Science']   \n",
       "5               NaN       ['Mathematics', 'Economics']   \n",
       "6               NaN  ['Economics', 'Computer Science']   \n",
       "7               NaN  ['Computer Science', 'Economics']   \n",
       "8               NaN  ['Computer Science', 'Economics']   \n",
       "9               NaN  ['Economics', 'Computer Science']   \n",
       "10              NaN  ['Computer Science', 'Economics']   \n",
       "11              NaN  ['Computer Science', 'Economics']   \n",
       "12              NaN  ['Sociology', 'Computer Science']   \n",
       "13              NaN  ['Computer Science', 'Economics']   \n",
       "14              NaN  ['Economics', 'Computer Science']   \n",
       "\n",
       "                                            authorIds  \\\n",
       "0                                         ['1788563']   \n",
       "1                              ['1749906', '4006636']   \n",
       "2     ['37666967', '144368601', '2605877', '3134710']   \n",
       "3                          ['144433798', '143999398']   \n",
       "4                 ['31938009', '48395540', '6974508']   \n",
       "5                                         ['1709874']   \n",
       "6                            ['1684176', '145354960']   \n",
       "7                              ['2450616', '1740329']   \n",
       "8                                         ['3254849']   \n",
       "9                                       ['143892297']   \n",
       "10                                      ['143892297']   \n",
       "11                                      ['143892297']   \n",
       "12  ['143728483', '35416435', '1389570466', '27755...   \n",
       "13                          ['1775622', '1489216270']   \n",
       "14                          ['1775622', '1489216270']   \n",
       "\n",
       "                                        author_fields  \\\n",
       "0                                ['Computer Science']   \n",
       "1                   ['Economics', 'Computer Science']   \n",
       "2   ['Computer Science', 'Computer Science', 'Comp...   \n",
       "3                   ['Economics', 'Computer Science']   \n",
       "4   ['Computer Science', 'Computer Science', 'Comp...   \n",
       "5                                     ['Mathematics']   \n",
       "6            ['Computer Science', 'Computer Science']   \n",
       "7                        ['Economics', 'Mathematics']   \n",
       "8                                ['Computer Science']   \n",
       "9                                ['Computer Science']   \n",
       "10                               ['Computer Science']   \n",
       "11                               ['Computer Science']   \n",
       "12  ['Computer Science', 'Computer Science', 'Comp...   \n",
       "13           ['Computer Science', 'Computer Science']   \n",
       "14           ['Computer Science', 'Computer Science']   \n",
       "\n",
       "                                             Abstract  \\\n",
       "0   Cultural heritage carries the historical value...   \n",
       "1   We consider the problem of fairly dividing a c...   \n",
       "2   We consider the problem of efficient credit as...   \n",
       "3   We consider a multi-agent resource allocation ...   \n",
       "4   Uncertainty in the estimation of the causal ef...   \n",
       "5   We study the $\\delta$-version of the preferent...   \n",
       "6   We study online matching settings with selfish...   \n",
       "7   We study repeated independent Blackwell experi...   \n",
       "8   Heap exploitation techniques to abuse the meta...   \n",
       "9   Studying complexity of various bribery problem...   \n",
       "10  Studying complexity of various bribery problem...   \n",
       "11  Studying complexity of various bribery problem...   \n",
       "12  Many political and societal factors can affect...   \n",
       "13  Consequential decision-making incentivizes ind...   \n",
       "14  Consequential decision-making incentivizes ind...   \n",
       "\n",
       "                                      Tokens Abstract  \n",
       "0   ['cultural', 'heritage', 'carries', 'historica...  \n",
       "1   ['consider', 'problem', 'fairly', 'dividing', ...  \n",
       "2   ['consider', 'problem', 'efficient', 'credit',...  \n",
       "3   ['consider', 'multi-agent', 'resource allocati...  \n",
       "4   ['uncertainty', 'estimation', 'causal', 'effec...  \n",
       "5   ['study', '\\\\delta', '-version', 'preferential...  \n",
       "6   ['study', 'online', 'matching', 'settings', 's...  \n",
       "7   ['study', 'repeated', 'independent', 'blackwel...  \n",
       "8   ['heap', 'exploitation', 'techniques', 'abuse'...  \n",
       "9   ['studying', 'complexity', 'various', 'bribery...  \n",
       "10  ['studying', 'complexity', 'various', 'bribery...  \n",
       "11  ['studying', 'complexity', 'various', 'bribery...  \n",
       "12  ['many', 'political', 'societal', 'factors', '...  \n",
       "13  ['consequential', 'decision-making', 'incentiv...  \n",
       "14  ['consequential', 'decision-making', 'incentiv...  "
      ]
     },
     "execution_count": 3,
     "metadata": {},
     "output_type": "execute_result"
    }
   ],
   "source": [
    "df_papers = pd.read_csv('Papers_AbsTokens.txt', index_col = 0)\n",
    "df_papers.head(15)"
   ]
  },
  {
   "cell_type": "code",
   "execution_count": 4,
   "id": "8ba91fab",
   "metadata": {},
   "outputs": [
    {
     "name": "stderr",
     "output_type": "stream",
     "text": [
      "[nltk_data] Downloading package punkt to\n",
      "[nltk_data]     C:\\Users\\Owner\\AppData\\Roaming\\nltk_data...\n",
      "[nltk_data]   Package punkt is already up-to-date!\n",
      "[nltk_data] Downloading package stopwords to\n",
      "[nltk_data]     C:\\Users\\Owner\\AppData\\Roaming\\nltk_data...\n",
      "[nltk_data]   Package stopwords is already up-to-date!\n"
     ]
    },
    {
     "data": {
      "text/plain": [
       "True"
      ]
     },
     "execution_count": 4,
     "metadata": {},
     "output_type": "execute_result"
    }
   ],
   "source": [
    "import nltk, re, pprint\n",
    "from nltk import word_tokenize\n",
    "from nltk.corpus import stopwords\n",
    "import string\n",
    "nltk.download('punkt')\n",
    "nltk.download('stopwords')\n"
   ]
  },
  {
   "cell_type": "code",
   "execution_count": 5,
   "id": "92b8cec3",
   "metadata": {},
   "outputs": [],
   "source": [
    "\n",
    "abstracts_list = df_papers['Abstract'].tolist()"
   ]
  },
  {
   "cell_type": "code",
   "execution_count": 6,
   "id": "91a2d6e5",
   "metadata": {},
   "outputs": [],
   "source": [
    "#abstracts_list"
   ]
  },
  {
   "cell_type": "code",
   "execution_count": 7,
   "id": "a0931116",
   "metadata": {},
   "outputs": [],
   "source": [
    "tokens_list = []\n",
    "\n",
    "for x in abstracts_list:\n",
    "    try:\n",
    "        tokens_list.append(word_tokenize(x))\n",
    "    except:\n",
    "        tokens_list.append(None)\n",
    "\n"
   ]
  },
  {
   "cell_type": "code",
   "execution_count": 8,
   "id": "b60c6a22",
   "metadata": {},
   "outputs": [
    {
     "data": {
      "text/plain": [
       "1448"
      ]
     },
     "execution_count": 8,
     "metadata": {},
     "output_type": "execute_result"
    }
   ],
   "source": [
    "len(tokens_list)"
   ]
  },
  {
   "cell_type": "code",
   "execution_count": 9,
   "id": "b21c8a61",
   "metadata": {},
   "outputs": [],
   "source": [
    "def clean_tokens(x):\n",
    "    sw_nltk = stopwords.words('english')\n",
    "    punc = list(string.punctuation)\n",
    "    #is_integer = [lambda s: s.isdigit() or (s[0] == '-' and s[1:].isdigit())]\n",
    "    urls = [word for word in x if re.search(r'(?:http://)?\\w+\\.\\S*[^.\\s]',word)]\n",
    "    out = [sw_nltk + punc + urls + ['https']]\n",
    "    out = [item for sublist in out for item in sublist]\n",
    "    try:\n",
    "        clw = [word.lower() for word in x]\n",
    "        cl = [word for word in clw if word not in out]\n",
    "        cli =  [word for word in cl if not any(letter.isdigit() for letter in word)]\n",
    "        \n",
    "    except:\n",
    "        pass\n",
    "    #cli = filter(is_integer,cl)\n",
    "    return cli"
   ]
  },
  {
   "cell_type": "code",
   "execution_count": 10,
   "id": "e228817a",
   "metadata": {},
   "outputs": [],
   "source": [
    "clean_tokens_list = []\n",
    "for x in tokens_list:\n",
    "    try:\n",
    "        clean_tokens_list.append(clean_tokens(x))\n",
    "    except:\n",
    "        clean_tokens_list.append(None)\n",
    "\n",
    "\n"
   ]
  },
  {
   "cell_type": "code",
   "execution_count": 11,
   "id": "78f7e740",
   "metadata": {},
   "outputs": [
    {
     "name": "stdout",
     "output_type": "stream",
     "text": [
      "<class 'pandas.core.frame.DataFrame'>\n",
      "Int64Index: 1448 entries, 0 to 1447\n",
      "Data columns (total 11 columns):\n",
      " #   Column           Non-Null Count  Dtype  \n",
      "---  ------           --------------  -----  \n",
      " 0   Unnamed: 0       1448 non-null   int64  \n",
      " 1   paperId          1448 non-null   object \n",
      " 2   title            1448 non-null   object \n",
      " 3   year             1448 non-null   int64  \n",
      " 4   citationCount    1448 non-null   float64\n",
      " 5   externalIds.DOI  0 non-null      float64\n",
      " 6   keywords         1448 non-null   object \n",
      " 7   authorIds        1448 non-null   object \n",
      " 8   author_fields    1448 non-null   object \n",
      " 9   Abstract         1339 non-null   object \n",
      " 10  Tokens Abstract  1339 non-null   object \n",
      "dtypes: float64(2), int64(2), object(7)\n",
      "memory usage: 135.8+ KB\n"
     ]
    }
   ],
   "source": [
    "df_papers.info()"
   ]
  },
  {
   "cell_type": "code",
   "execution_count": 12,
   "id": "279daa0c",
   "metadata": {},
   "outputs": [],
   "source": [
    "tokens_words = [x for x in clean_tokens_list if str(x) != 'None']\n",
    "concat = [item for sublist in tokens_words for item in sublist]\n",
    "tokens_concat =  [word for word in concat if word.isalpha()]\n"
   ]
  },
  {
   "cell_type": "code",
   "execution_count": 13,
   "id": "5956cad6",
   "metadata": {},
   "outputs": [],
   "source": [
    "def frequency(tokens, unique, freq):\n",
    "    #uniqueWords = []\n",
    "    for i in tokens:\n",
    "        if not i in unique:\n",
    "            unique.append(i)\n",
    "    \n",
    "    \n",
    "    #tokensFrequency = {}\n",
    "    for i in unique:\n",
    "        freq[i] = sum(1 for x in tokens if i == x)\n",
    "        \n",
    "    sorted_tokens = sorted(freq.items(), key=lambda x:x[1], reverse=True)\n",
    "    sorted_dict = dict(sorted_tokens)\n",
    "    \n",
    "    return unique, freq, sorted_dict"
   ]
  },
  {
   "cell_type": "code",
   "execution_count": 14,
   "id": "46c0b65b",
   "metadata": {},
   "outputs": [
    {
     "name": "stdout",
     "output_type": "stream",
     "text": [
      "Number of unique words: 12311\n"
     ]
    }
   ],
   "source": [
    "uniqueWords = []\n",
    "tokensFrequency = {}\n",
    "sorted_dict = {}\n",
    "\n",
    "uniqueWords, tokensFrquency, sorted_dict = frequency(tokens_concat, uniqueWords, tokensFrequency)\n",
    "\n",
    "print(f'Number of unique words: {len(uniqueWords)}')"
   ]
  },
  {
   "cell_type": "code",
   "execution_count": 15,
   "id": "90c40879",
   "metadata": {},
   "outputs": [],
   "source": [
    "def smoothify(yInput):\n",
    "    x = np.array(range(0, depth))\n",
    "    y = np.array(yInput)\n",
    "    # define x as 600 equally spaced values between the min and max of original x\n",
    "    x_smooth = np.linspace(x.min(), x.max(), 600) \n",
    "    # define spline with degree k=3, which determines the amount of wiggle\n",
    "    spl = make_interp_spline(x, y, k=3)\n",
    "    y_smooth = spl(x_smooth)\n",
    "    # Return the x and y axis\n",
    "    return x_smooth, y_smooth"
   ]
  },
  {
   "cell_type": "code",
   "execution_count": 16,
   "id": "ed516d0e",
   "metadata": {},
   "outputs": [],
   "source": [
    "def zipfGraph(sorted_dict, depth, texts):\n",
    "    \n",
    "    #plot zipfs curve\n",
    "    \n",
    "    figure(figsize=(12,10), dpi=80)\n",
    "    ziffianCurveValues = [100/i for i in range(1, depth+1)]\n",
    "    x, y = smoothify(ziffianCurveValues)\n",
    "    plt.plot(x, y, label='Ziffian Curve', ls=':', color='grey')\n",
    "    \n",
    "    #plot tokens of text(s)\n",
    "    \n",
    "    \n",
    "    if len(texts) == 1:\n",
    "        sorted_list = list(sorted_dict.keys())\n",
    "        words_plot = sorted_list[:depth]  \n",
    "        sorted_values =  list(sorted_dict.values())\n",
    "    \n",
    "    \n",
    "        maxValue = sorted_values[0]\n",
    "        yAxis = [round(value / maxValue * 100) for value in sorted_values[:depth]]\n",
    "        x, y = smoothify(yAxis)\n",
    "        plt.plot(x, y, label=f' Tokens {texts[0]}', lw=1, alpha=0.5)\n",
    "        plt.title('Top 50 Tokens')\n",
    "        #plt.xticks(range(0, depth), words_plot)\n",
    "        #plt.xticks(rotation='vertical')\n",
    "        plt.legend()\n",
    "        \n",
    "    else:\n",
    "        xAxis = [str(number) for number in range(1, depth+1)]\n",
    "        #sorted_values =  list(sorted_dict[i].values())\n",
    "        count = 0\n",
    "        for i in sorted_dict:\n",
    "            sorted_values =  list(sorted_dict[i].values())\n",
    "            maxValue = list(sorted_dict[i].values())[0]\n",
    "            yAxis = [round(value / maxValue * 100) for value in sorted_values[:depth]]\n",
    "            x, y = smoothify(yAxis)\n",
    "            plt.plot(x, y, label=f' Tokens {texts[count]}', lw=1, alpha=0.5)\n",
    "            count +=1\n",
    "            \n",
    "            \n",
    "        plt.title(f'Top {depth} Tokens')\n",
    "        #plt.xticks(range(0, depth), xAxis)\n",
    "        plt.legend()\n",
    "        \n",
    "        \n",
    "    #plt.savefig('wordamounts.png', dpi=300)\n",
    "    plt.show()\n",
    "    "
   ]
  },
  {
   "cell_type": "code",
   "execution_count": 17,
   "id": "21ecc947",
   "metadata": {},
   "outputs": [
    {
     "data": {
      "image/png": "[encoded data removed]",
      "text/plain": [
       "<Figure size 960x800 with 1 Axes>"
      ]
     },
     "metadata": {},
     "output_type": "display_data"
    }
   ],
   "source": [
    "depth = 12311\n",
    "texts = ['Abstracts']\n",
    "zipfGraph(sorted_dict, depth,texts)"
   ]
  },
  {
   "cell_type": "code",
   "execution_count": 18,
   "id": "d500d140",
   "metadata": {},
   "outputs": [
    {
     "data": {
      "text/plain": [
       "40176"
      ]
     },
     "execution_count": 18,
     "metadata": {},
     "output_type": "execute_result"
    }
   ],
   "source": [
    "import random\n",
    "import string\n",
    "\n",
    "def random_string(n):\n",
    "    count = 0\n",
    "    s = ''\n",
    "    while count < n:\n",
    "        s += random.choice('jdal' + ' ')\n",
    "        count += 1\n",
    "    return s\n",
    "\n",
    "n = 250526\n",
    "\n",
    "s = random_string(n)\n",
    "randt = [word_tokenize(s)]\n",
    "\n",
    "randt = [item for sublist in randt for item in sublist]\n",
    "\n",
    "len(randt)\n",
    "\n"
   ]
  },
  {
   "cell_type": "code",
   "execution_count": 19,
   "id": "3c736ffc",
   "metadata": {},
   "outputs": [
    {
     "name": "stdout",
     "output_type": "stream",
     "text": [
      "Number of unique words: 13632\n"
     ]
    }
   ],
   "source": [
    "uniqueWords2 = []\n",
    "tokensFrequency2 = {}\n",
    "sorted_dict2 = {}\n",
    "\n",
    "uniqueWords2, tokensFrquency2, sorted_dict2 = frequency(randt, uniqueWords2, tokensFrequency2)\n",
    "\n",
    "print(f'Number of unique words: {len(uniqueWords2)}')"
   ]
  },
  {
   "cell_type": "code",
   "execution_count": 20,
   "id": "fa0f8a6e",
   "metadata": {},
   "outputs": [],
   "source": [
    "texts = ['Abstracts', 'Random']\n",
    "tokens = [sorted_dict, sorted_dict2]\n",
    "\n",
    "texts_dict = dict(zip(texts, tokens))"
   ]
  },
  {
   "cell_type": "code",
   "execution_count": 21,
   "id": "3e81a261",
   "metadata": {},
   "outputs": [
    {
     "data": {
      "image/png": "[encoded data removed]",
      "text/plain": [
       "<Figure size 960x800 with 1 Axes>"
      ]
     },
     "metadata": {},
     "output_type": "display_data"
    }
   ],
   "source": [
    "depth = 12311\n",
    "texts = ['Abstract', 'Random Text']\n",
    "zipfGraph(texts_dict, depth,texts)"
   ]
  },
  {
   "cell_type": "code",
   "execution_count": 22,
   "id": "c2c6fe68",
   "metadata": {},
   "outputs": [],
   "source": [
    "from nltk.collocations import *\n"
   ]
  },
  {
   "cell_type": "code",
   "execution_count": 23,
   "id": "ed5208e7",
   "metadata": {},
   "outputs": [],
   "source": [
    "\n",
    "colloc_lists = []\n",
    "#bestc_list=[]\n",
    "bigram_measures = nltk.collocations.BigramAssocMeasures()\n",
    "finder = BigramCollocationFinder.from_words(tokens_concat)\n",
    "#bestc_list.append(finder.nbest(bigram_measures.pmi, 10))\n",
    "scored = finder.score_ngrams(bigram_measures.raw_freq)\n",
    "#scored = finder.above_score(bigram_measures.raw_freq, 0.1)\n",
    "colloc_lists.append(scored)\n",
    "#clist.append(scored[])\n",
    "#colloc_lists"
   ]
  },
  {
   "cell_type": "code",
   "execution_count": 24,
   "id": "b62df0b3",
   "metadata": {},
   "outputs": [],
   "source": [
    "colloc_list1 = [item for sublist in colloc_lists for item in sublist]\n"
   ]
  },
  {
   "cell_type": "code",
   "execution_count": 25,
   "id": "b613834e",
   "metadata": {},
   "outputs": [],
   "source": [
    "c_list = []\n",
    "for i in colloc_list1:\n",
    "    c_list.append(i[0]) "
   ]
  },
  {
   "cell_type": "code",
   "execution_count": 26,
   "id": "edeeef24",
   "metadata": {},
   "outputs": [
    {
     "data": {
      "text/plain": [
       "94698"
      ]
     },
     "execution_count": 26,
     "metadata": {},
     "output_type": "execute_result"
    }
   ],
   "source": [
    "len(c_list)"
   ]
  },
  {
   "cell_type": "code",
   "execution_count": 27,
   "id": "ca66b256",
   "metadata": {},
   "outputs": [
    {
     "data": {
      "text/plain": [
       "94698"
      ]
     },
     "execution_count": 27,
     "metadata": {},
     "output_type": "execute_result"
    }
   ],
   "source": [
    "len(c_list)"
   ]
  },
  {
   "cell_type": "code",
   "execution_count": 28,
   "id": "a538db5d",
   "metadata": {},
   "outputs": [
    {
     "data": {
      "text/plain": [
       "'\\nct_list_full = []\\ncount=0\\nfor x in c_list:\\n\\n    nii=0\\n    nio=0\\n    noi=0\\n    noo=0\\n        \\n    col = x\\n        \\n    for i in colloc_list:\\n            \\n        if i == col:\\n            nii = colloc_list1[count][1]*132917\\n    \\n        elif i[0] == col[0]:\\n            nio+=1\\n            \\n        elif i[1] == col[1]:\\n            noi+=1\\n            \\n        else:\\n            noo+=1\\n        \\n    ct = [nii,nio,noi,noo]\\n    ct_list_full.append(ct)\\n        \\n    count+=1\\n    print(count/len(c_list))\\n    \\n'"
      ]
     },
     "execution_count": 28,
     "metadata": {},
     "output_type": "execute_result"
    }
   ],
   "source": [
    "'''\n",
    "ct_list_full = []\n",
    "count=0\n",
    "for x in c_list:\n",
    "\n",
    "    nii=0\n",
    "    nio=0\n",
    "    noi=0\n",
    "    noo=0\n",
    "        \n",
    "    col = x\n",
    "        \n",
    "    for i in colloc_list:\n",
    "            \n",
    "        if i == col:\n",
    "            nii = colloc_list1[count][1]*132917\n",
    "    \n",
    "        elif i[0] == col[0]:\n",
    "            nio+=1\n",
    "            \n",
    "        elif i[1] == col[1]:\n",
    "            noi+=1\n",
    "            \n",
    "        else:\n",
    "            noo+=1\n",
    "        \n",
    "    ct = [nii,nio,noi,noo]\n",
    "    ct_list_full.append(ct)\n",
    "        \n",
    "    count+=1\n",
    "    print(count/len(c_list))\n",
    "    \n",
    "'''  \n",
    "        "
   ]
  },
  {
   "cell_type": "code",
   "execution_count": 29,
   "id": "65cac7c0",
   "metadata": {},
   "outputs": [
    {
     "data": {
      "text/plain": [
       "\"\\nfile = open('contingency_tables.txt','w')\\nfor item in ct_list_full:\\n    file.write(str(item))\\nfile.close()\\n\""
      ]
     },
     "execution_count": 29,
     "metadata": {},
     "output_type": "execute_result"
    }
   ],
   "source": [
    "'''\n",
    "file = open('contingency_tables.txt','w')\n",
    "for item in ct_list_full:\n",
    "    file.write(str(item))\n",
    "file.close()\n",
    "'''"
   ]
  },
  {
   "cell_type": "code",
   "execution_count": 30,
   "id": "7076c2d2",
   "metadata": {},
   "outputs": [],
   "source": [
    "my_file = open(r\"C:\\Users\\Owner\\Downloads\\Assignment2_CSS-main (1)\\Assignment2_CSS-main\\contingency_tables.txt\", \"r\")"
   ]
  },
  {
   "cell_type": "code",
   "execution_count": 31,
   "id": "8c81836a",
   "metadata": {},
   "outputs": [],
   "source": [
    "ct =my_file.read()"
   ]
  },
  {
   "cell_type": "code",
   "execution_count": 32,
   "id": "9aa7fc38",
   "metadata": {},
   "outputs": [],
   "source": [
    "data_into_list = ct.replace(']', '];').split(';')\n",
    "my_file.close()"
   ]
  },
  {
   "cell_type": "code",
   "execution_count": 33,
   "id": "68b21c76",
   "metadata": {},
   "outputs": [],
   "source": [
    "ct_list = []\n",
    "for x in data_into_list:\n",
    "    i = x.split(',')\n",
    "    i = [n.replace('[', '') for n in i]\n",
    "    i = [n.replace(']', '') for n in i]\n",
    "    i = [n.replace(' ', '') for n in i]\n",
    "    try:\n",
    "        i = [int(float(n)) for n in i]\n",
    "        ct_list.append(i)\n",
    "    except:\n",
    "        ct_list.append(None)"
   ]
  },
  {
   "cell_type": "code",
   "execution_count": 34,
   "id": "1dd9c268",
   "metadata": {},
   "outputs": [],
   "source": [
    "from scipy.stats import fisher_exact\n",
    "from scipy.stats import chi2_contingency\n",
    "from scipy.stats import chisquare\n",
    "from scipy.stats.contingency import expected_freq"
   ]
  },
  {
   "cell_type": "code",
   "execution_count": 35,
   "id": "9a0aefc0",
   "metadata": {},
   "outputs": [],
   "source": [
    "pvalue_full = []\n",
    "\n",
    "for x in ct_list:\n",
    "    try:\n",
    "        obs = [[x[0], x[1]], [x[2], x[3]]]  \n",
    "        obs_exp = expected_freq(obs)\n",
    "        pvalue = chisquare(obs, obs_exp).pvalue[1]\n",
    "        \n",
    "        pvalue_full.append(pvalue)\n",
    "        \n",
    "    except:\n",
    "        pass"
   ]
  },
  {
   "cell_type": "code",
   "execution_count": 36,
   "id": "1e55e749",
   "metadata": {},
   "outputs": [
    {
     "data": {
      "text/plain": [
       "94698"
      ]
     },
     "execution_count": 36,
     "metadata": {},
     "output_type": "execute_result"
    }
   ],
   "source": [
    "len(pvalue_full)"
   ]
  },
  {
   "cell_type": "code",
   "execution_count": 37,
   "id": "039c6f51",
   "metadata": {},
   "outputs": [],
   "source": [
    "dct = {w: x for w, x in zip(c_list, pvalue_full)}\n"
   ]
  },
  {
   "cell_type": "code",
   "execution_count": 38,
   "id": "0298466a",
   "metadata": {},
   "outputs": [],
   "source": [
    "sorted_pv = sorted(dct.items(), key=lambda x:x[1])\n",
    "        \n",
    "spv_dict = dict(sorted_pv)\n"
   ]
  },
  {
   "cell_type": "code",
   "execution_count": 39,
   "id": "8759d884",
   "metadata": {},
   "outputs": [],
   "source": [
    "test_list=[]\n",
    "for key, value in spv_dict.items():\n",
    "    temp = [key,value]\n",
    "    test_list.append(temp)"
   ]
  },
  {
   "cell_type": "code",
   "execution_count": 40,
   "id": "4f8314cc",
   "metadata": {},
   "outputs": [],
   "source": [
    "spv_list=[]\n",
    "\n",
    "for i in test_list:\n",
    "    if i[1]<0.001:\n",
    "        spv_list.append(i)\n",
    "        \n",
    "#spv_list"
   ]
  },
  {
   "cell_type": "code",
   "execution_count": 41,
   "id": "eb44bff6",
   "metadata": {},
   "outputs": [],
   "source": [
    "spv_dict = dict(spv_list)"
   ]
  },
  {
   "cell_type": "code",
   "execution_count": 42,
   "id": "c9d32f41",
   "metadata": {},
   "outputs": [],
   "source": [
    "from nltk.tokenize import MWETokenizer"
   ]
  },
  {
   "cell_type": "code",
   "execution_count": 43,
   "id": "8db8a413",
   "metadata": {},
   "outputs": [
    {
     "data": {
      "text/plain": [
       "[('machine', 'learning'),\n",
       " ('social', 'media'),\n",
       " ('reinforcement', 'learning'),\n",
       " ('united', 'states'),\n",
       " ('nash', 'equilibrium'),\n",
       " ('shapley', 'value'),\n",
       " ('fake', 'news'),\n",
       " ('artificial', 'intelligence'),\n",
       " ('decision', 'making'),\n",
       " ('et', 'al'),\n",
       " ('nash', 'equilibria'),\n",
       " ('observational', 'data'),\n",
       " ('voting', 'rules'),\n",
       " ('neural', 'networks'),\n",
       " ('imperfect', 'information'),\n",
       " ('est', 'destinée'),\n",
       " ('ouverte', 'pluridisciplinaire'),\n",
       " ('établissements', 'enseignement'),\n",
       " ('destinée', 'au'),\n",
       " ('français', 'ou'),\n",
       " ('laboratoires', 'publics'),\n",
       " ('niveau', 'recherche'),\n",
       " ('publiés', 'ou'),\n",
       " ('émanant', 'des'),\n",
       " ('étrangers', 'des'),\n",
       " ('pluridisciplinaire', 'hal'),\n",
       " ('scientifiques', 'de'),\n",
       " ('dépôt', 'et'),\n",
       " ('enseignement', 'et'),\n",
       " ('conclude', 'conclude'),\n",
       " ('causal', 'inference'),\n",
       " ('hal', 'est'),\n",
       " ('deposit', 'dissemination'),\n",
       " ('hal', 'open'),\n",
       " ('weak', 'ties'),\n",
       " ('au', 'dépôt'),\n",
       " ('des', 'laboratoires'),\n",
       " ('des', 'établissements'),\n",
       " ('non', 'émanant'),\n",
       " ('ou', 'privés'),\n",
       " ('ou', 'étrangers'),\n",
       " ('ou', 'non'),\n",
       " ('l', 'archive'),\n",
       " ('à', 'la'),\n",
       " ('ξ', 'b'),\n",
       " ('climate', 'change'),\n",
       " ('archive', 'ouverte'),\n",
       " ('recherche', 'français'),\n",
       " ('recherche', 'publiés'),\n",
       " ('archive', 'deposit'),\n",
       " ('publics', 'ou'),\n",
       " ('polynomial', 'time'),\n",
       " ('abroad', 'public'),\n",
       " ('teaching', 'research'),\n",
       " ('la', 'diffusion'),\n",
       " ('treatment', 'effects'),\n",
       " ('open', 'access'),\n",
       " ('mean', 'estimation'),\n",
       " ('real', 'world'),\n",
       " ('resource', 'allocation'),\n",
       " ('echo', 'chambers'),\n",
       " ('ð', 'þ'),\n",
       " ('game', 'theory'),\n",
       " ('centers', 'l'),\n",
       " ('dissemination', 'scientific'),\n",
       " ('france', 'abroad'),\n",
       " ('publicly', 'available'),\n",
       " ('unobserved', 'confounders'),\n",
       " ('footrule', 'distance'),\n",
       " ('commonly', 'used'),\n",
       " ('causal', 'effects'),\n",
       " ('markov', 'decision'),\n",
       " ('special', 'case'),\n",
       " ('shapley', 'values'),\n",
       " ('computer', 'science')]"
      ]
     },
     "execution_count": 43,
     "metadata": {},
     "output_type": "execute_result"
    }
   ],
   "source": [
    "cll = list(spv_dict.keys())\n",
    "cll"
   ]
  },
  {
   "cell_type": "code",
   "execution_count": 44,
   "id": "a8a05237",
   "metadata": {},
   "outputs": [],
   "source": [
    "tokenizer = MWETokenizer(cll, separator = ' ')"
   ]
  },
  {
   "cell_type": "code",
   "execution_count": 45,
   "id": "e5b2158a",
   "metadata": {},
   "outputs": [],
   "source": [
    "tcabs = []\n",
    "\n",
    "for x in clean_tokens_list:\n",
    "    try:\n",
    "        tcabs.append(tokenizer.tokenize(x))\n",
    "    except:\n",
    "        tcabs.append(None)"
   ]
  },
  {
   "cell_type": "code",
   "execution_count": 46,
   "id": "81cbfa9b",
   "metadata": {},
   "outputs": [],
   "source": [
    "df_papers[\"Tokens Abstract\"] = tcabs"
   ]
  },
  {
   "cell_type": "code",
   "execution_count": 47,
   "id": "93051c27",
   "metadata": {},
   "outputs": [
    {
     "data": {
      "text/html": [
       "<div>\n",
       "<style scoped>\n",
       "    .dataframe tbody tr th:only-of-type {\n",
       "        vertical-align: middle;\n",
       "    }\n",
       "\n",
       "    .dataframe tbody tr th {\n",
       "        vertical-align: top;\n",
       "    }\n",
       "\n",
       "    .dataframe thead th {\n",
       "        text-align: right;\n",
       "    }\n",
       "</style>\n",
       "<table border=\"1\" class=\"dataframe\">\n",
       "  <thead>\n",
       "    <tr style=\"text-align: right;\">\n",
       "      <th></th>\n",
       "      <th>Unnamed: 0</th>\n",
       "      <th>paperId</th>\n",
       "      <th>title</th>\n",
       "      <th>year</th>\n",
       "      <th>citationCount</th>\n",
       "      <th>externalIds.DOI</th>\n",
       "      <th>keywords</th>\n",
       "      <th>authorIds</th>\n",
       "      <th>author_fields</th>\n",
       "      <th>Abstract</th>\n",
       "      <th>Tokens Abstract</th>\n",
       "    </tr>\n",
       "  </thead>\n",
       "  <tbody>\n",
       "    <tr>\n",
       "      <th>0</th>\n",
       "      <td>1</td>\n",
       "      <td>b30d4b44131698820ed05bcf7fb62c8fc6201672</td>\n",
       "      <td>Developing recommendations for designing smart...</td>\n",
       "      <td>2019</td>\n",
       "      <td>1.0</td>\n",
       "      <td>NaN</td>\n",
       "      <td>['Computer Science', 'Sociology']</td>\n",
       "      <td>['1788563']</td>\n",
       "      <td>['Computer Science']</td>\n",
       "      <td>Cultural heritage carries the historical value...</td>\n",
       "      <td>[cultural, heritage, carries, historical, valu...</td>\n",
       "    </tr>\n",
       "    <tr>\n",
       "      <th>1</th>\n",
       "      <td>2</td>\n",
       "      <td>9d59892c5657098bd3825116af8fad8d8ee943ff</td>\n",
       "      <td>Group Fairness for Indivisible Goods Allocation</td>\n",
       "      <td>2019</td>\n",
       "      <td>4.0</td>\n",
       "      <td>NaN</td>\n",
       "      <td>['Economics', 'Computer Science']</td>\n",
       "      <td>['1749906', '4006636']</td>\n",
       "      <td>['Economics', 'Computer Science']</td>\n",
       "      <td>We consider the problem of fairly dividing a c...</td>\n",
       "      <td>[consider, problem, fairly, dividing, collecti...</td>\n",
       "    </tr>\n",
       "    <tr>\n",
       "      <th>2</th>\n",
       "      <td>3</td>\n",
       "      <td>867cc74781225da4e08a77fc35037ba77911e455</td>\n",
       "      <td>Hindsight Credit Assignment</td>\n",
       "      <td>2019</td>\n",
       "      <td>37.0</td>\n",
       "      <td>NaN</td>\n",
       "      <td>['Economics', 'Computer Science']</td>\n",
       "      <td>['37666967', '144368601', '2605877', '3134710']</td>\n",
       "      <td>['Computer Science', 'Computer Science', 'Comp...</td>\n",
       "      <td>We consider the problem of efficient credit as...</td>\n",
       "      <td>[consider, problem, efficient, credit, assignm...</td>\n",
       "    </tr>\n",
       "    <tr>\n",
       "      <th>3</th>\n",
       "      <td>4</td>\n",
       "      <td>37a0f28f6aa41028e64d0440001ff525d67c1305</td>\n",
       "      <td>The Constrained Round Robin Algorithm for Fair...</td>\n",
       "      <td>2019</td>\n",
       "      <td>9.0</td>\n",
       "      <td>NaN</td>\n",
       "      <td>['Economics', 'Computer Science']</td>\n",
       "      <td>['144433798', '143999398']</td>\n",
       "      <td>['Economics', 'Computer Science']</td>\n",
       "      <td>We consider a multi-agent resource allocation ...</td>\n",
       "      <td>[consider, multi-agent, resource allocation, s...</td>\n",
       "    </tr>\n",
       "    <tr>\n",
       "      <th>4</th>\n",
       "      <td>5</td>\n",
       "      <td>894b376090e1e843c79211603814ccbcab09f632</td>\n",
       "      <td>Interpretable Almost Matching Exactly With Ins...</td>\n",
       "      <td>2019</td>\n",
       "      <td>5.0</td>\n",
       "      <td>NaN</td>\n",
       "      <td>['Economics', 'Computer Science']</td>\n",
       "      <td>['31938009', '48395540', '6974508']</td>\n",
       "      <td>['Computer Science', 'Computer Science', 'Comp...</td>\n",
       "      <td>Uncertainty in the estimation of the causal ef...</td>\n",
       "      <td>[uncertainty, estimation, causal, effect, obse...</td>\n",
       "    </tr>\n",
       "    <tr>\n",
       "      <th>...</th>\n",
       "      <td>...</td>\n",
       "      <td>...</td>\n",
       "      <td>...</td>\n",
       "      <td>...</td>\n",
       "      <td>...</td>\n",
       "      <td>...</td>\n",
       "      <td>...</td>\n",
       "      <td>...</td>\n",
       "      <td>...</td>\n",
       "      <td>...</td>\n",
       "      <td>...</td>\n",
       "    </tr>\n",
       "    <tr>\n",
       "      <th>1443</th>\n",
       "      <td>1444</td>\n",
       "      <td>3cbdec1b14b23320f175ac0f4936871d96fa9f07</td>\n",
       "      <td>The Keyword Explorer Suite: A Toolkit for Unde...</td>\n",
       "      <td>2023</td>\n",
       "      <td>0.0</td>\n",
       "      <td>NaN</td>\n",
       "      <td>['Economics', 'Education', 'Computer Science']</td>\n",
       "      <td>['40289577']</td>\n",
       "      <td>['Computer Science']</td>\n",
       "      <td>We have developed a set of Python applications...</td>\n",
       "      <td>[developed, set, python, applications, use, la...</td>\n",
       "    </tr>\n",
       "    <tr>\n",
       "      <th>1444</th>\n",
       "      <td>1445</td>\n",
       "      <td>12e93d2094d51acedb43727dacfe9da355f5d10f</td>\n",
       "      <td>Using citation networks to evaluate the impact...</td>\n",
       "      <td>2023</td>\n",
       "      <td>0.0</td>\n",
       "      <td>NaN</td>\n",
       "      <td>['Economics', 'Education', 'Computer Science']</td>\n",
       "      <td>['3161628', '143975462']</td>\n",
       "      <td>['Computer Science', 'Computer Science']</td>\n",
       "      <td>,</td>\n",
       "      <td>[]</td>\n",
       "    </tr>\n",
       "    <tr>\n",
       "      <th>1445</th>\n",
       "      <td>1446</td>\n",
       "      <td>6348ea334196587c419b0cfc6b6bae11679b02eb</td>\n",
       "      <td>Cryptocurrency co-investment network: token re...</td>\n",
       "      <td>2023</td>\n",
       "      <td>0.0</td>\n",
       "      <td>NaN</td>\n",
       "      <td>['Economics']</td>\n",
       "      <td>['2818774']</td>\n",
       "      <td>['Computer Science']</td>\n",
       "      <td>.</td>\n",
       "      <td>[]</td>\n",
       "    </tr>\n",
       "    <tr>\n",
       "      <th>1446</th>\n",
       "      <td>1447</td>\n",
       "      <td>08a51de6f966f298baf711b80b00fc5701aa663c</td>\n",
       "      <td>#EndSARS Protest: Discourse and Mobilisation o...</td>\n",
       "      <td>2023</td>\n",
       "      <td>0.0</td>\n",
       "      <td>NaN</td>\n",
       "      <td>['Political Science']</td>\n",
       "      <td>['52143529']</td>\n",
       "      <td>['Computer Science']</td>\n",
       "      <td>Using the @NGRPresident Twitter handle, the Go...</td>\n",
       "      <td>[using, ngrpresident, twitter, handle, governm...</td>\n",
       "    </tr>\n",
       "    <tr>\n",
       "      <th>1447</th>\n",
       "      <td>1448</td>\n",
       "      <td>9ab611afc6e5d26fb06d1298df4a4441489407a5</td>\n",
       "      <td>Statistical analysis of word flow among five I...</td>\n",
       "      <td>2023</td>\n",
       "      <td>0.0</td>\n",
       "      <td>NaN</td>\n",
       "      <td>['Economics']</td>\n",
       "      <td>['1745123']</td>\n",
       "      <td>['Computer Science']</td>\n",
       "      <td>A recent increase in data availability has all...</td>\n",
       "      <td>[recent, increase, data, availability, allowed...</td>\n",
       "    </tr>\n",
       "  </tbody>\n",
       "</table>\n",
       "<p>1448 rows × 11 columns</p>\n",
       "</div>"
      ],
      "text/plain": [
       "      Unnamed: 0                                   paperId  \\\n",
       "0              1  b30d4b44131698820ed05bcf7fb62c8fc6201672   \n",
       "1              2  9d59892c5657098bd3825116af8fad8d8ee943ff   \n",
       "2              3  867cc74781225da4e08a77fc35037ba77911e455   \n",
       "3              4  37a0f28f6aa41028e64d0440001ff525d67c1305   \n",
       "4              5  894b376090e1e843c79211603814ccbcab09f632   \n",
       "...          ...                                       ...   \n",
       "1443        1444  3cbdec1b14b23320f175ac0f4936871d96fa9f07   \n",
       "1444        1445  12e93d2094d51acedb43727dacfe9da355f5d10f   \n",
       "1445        1446  6348ea334196587c419b0cfc6b6bae11679b02eb   \n",
       "1446        1447  08a51de6f966f298baf711b80b00fc5701aa663c   \n",
       "1447        1448  9ab611afc6e5d26fb06d1298df4a4441489407a5   \n",
       "\n",
       "                                                  title  year  citationCount  \\\n",
       "0     Developing recommendations for designing smart...  2019            1.0   \n",
       "1       Group Fairness for Indivisible Goods Allocation  2019            4.0   \n",
       "2                           Hindsight Credit Assignment  2019           37.0   \n",
       "3     The Constrained Round Robin Algorithm for Fair...  2019            9.0   \n",
       "4     Interpretable Almost Matching Exactly With Ins...  2019            5.0   \n",
       "...                                                 ...   ...            ...   \n",
       "1443  The Keyword Explorer Suite: A Toolkit for Unde...  2023            0.0   \n",
       "1444  Using citation networks to evaluate the impact...  2023            0.0   \n",
       "1445  Cryptocurrency co-investment network: token re...  2023            0.0   \n",
       "1446  #EndSARS Protest: Discourse and Mobilisation o...  2023            0.0   \n",
       "1447  Statistical analysis of word flow among five I...  2023            0.0   \n",
       "\n",
       "      externalIds.DOI                                        keywords  \\\n",
       "0                 NaN               ['Computer Science', 'Sociology']   \n",
       "1                 NaN               ['Economics', 'Computer Science']   \n",
       "2                 NaN               ['Economics', 'Computer Science']   \n",
       "3                 NaN               ['Economics', 'Computer Science']   \n",
       "4                 NaN               ['Economics', 'Computer Science']   \n",
       "...               ...                                             ...   \n",
       "1443              NaN  ['Economics', 'Education', 'Computer Science']   \n",
       "1444              NaN  ['Economics', 'Education', 'Computer Science']   \n",
       "1445              NaN                                   ['Economics']   \n",
       "1446              NaN                           ['Political Science']   \n",
       "1447              NaN                                   ['Economics']   \n",
       "\n",
       "                                            authorIds  \\\n",
       "0                                         ['1788563']   \n",
       "1                              ['1749906', '4006636']   \n",
       "2     ['37666967', '144368601', '2605877', '3134710']   \n",
       "3                          ['144433798', '143999398']   \n",
       "4                 ['31938009', '48395540', '6974508']   \n",
       "...                                               ...   \n",
       "1443                                     ['40289577']   \n",
       "1444                         ['3161628', '143975462']   \n",
       "1445                                      ['2818774']   \n",
       "1446                                     ['52143529']   \n",
       "1447                                      ['1745123']   \n",
       "\n",
       "                                          author_fields  \\\n",
       "0                                  ['Computer Science']   \n",
       "1                     ['Economics', 'Computer Science']   \n",
       "2     ['Computer Science', 'Computer Science', 'Comp...   \n",
       "3                     ['Economics', 'Computer Science']   \n",
       "4     ['Computer Science', 'Computer Science', 'Comp...   \n",
       "...                                                 ...   \n",
       "1443                               ['Computer Science']   \n",
       "1444           ['Computer Science', 'Computer Science']   \n",
       "1445                               ['Computer Science']   \n",
       "1446                               ['Computer Science']   \n",
       "1447                               ['Computer Science']   \n",
       "\n",
       "                                               Abstract  \\\n",
       "0     Cultural heritage carries the historical value...   \n",
       "1     We consider the problem of fairly dividing a c...   \n",
       "2     We consider the problem of efficient credit as...   \n",
       "3     We consider a multi-agent resource allocation ...   \n",
       "4     Uncertainty in the estimation of the causal ef...   \n",
       "...                                                 ...   \n",
       "1443  We have developed a set of Python applications...   \n",
       "1444                                                  ,   \n",
       "1445                                                  .   \n",
       "1446  Using the @NGRPresident Twitter handle, the Go...   \n",
       "1447  A recent increase in data availability has all...   \n",
       "\n",
       "                                        Tokens Abstract  \n",
       "0     [cultural, heritage, carries, historical, valu...  \n",
       "1     [consider, problem, fairly, dividing, collecti...  \n",
       "2     [consider, problem, efficient, credit, assignm...  \n",
       "3     [consider, multi-agent, resource allocation, s...  \n",
       "4     [uncertainty, estimation, causal, effect, obse...  \n",
       "...                                                 ...  \n",
       "1443  [developed, set, python, applications, use, la...  \n",
       "1444                                                 []  \n",
       "1445                                                 []  \n",
       "1446  [using, ngrpresident, twitter, handle, governm...  \n",
       "1447  [recent, increase, data, availability, allowed...  \n",
       "\n",
       "[1448 rows x 11 columns]"
      ]
     },
     "execution_count": 47,
     "metadata": {},
     "output_type": "execute_result"
    }
   ],
   "source": [
    "df_papers"
   ]
  },
  {
   "cell_type": "code",
   "execution_count": 48,
   "id": "6202da45",
   "metadata": {},
   "outputs": [],
   "source": [
    "df_papers.to_csv('Papers_AbsTokens.txt')"
   ]
  },
  {
   "cell_type": "code",
   "execution_count": null,
   "id": "09b13f6d",
   "metadata": {},
   "outputs": [],
   "source": []
  }
 ],
 "metadata": {
  "kernelspec": {
   "display_name": "Python 3 (ipykernel)",
   "language": "python",
   "name": "python3"
  },
  "language_info": {
   "codemirror_mode": {
    "name": "ipython",
    "version": 3
   },
   "file_extension": ".py",
   "mimetype": "text/x-python",
   "name": "python",
   "nbconvert_exporter": "python",
   "pygments_lexer": "ipython3",
   "version": "3.9.13"
  }
 },
 "nbformat": 4,
 "nbformat_minor": 5
}
