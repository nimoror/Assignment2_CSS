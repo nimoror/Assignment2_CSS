{
 "cells": [
  {
   "cell_type": "code",
   "execution_count": 117,
   "id": "f0e0aa58",
   "metadata": {},
   "outputs": [],
   "source": [
    "#from Week_4 import G\n",
    "import networkx as nx\n",
    "G = nx.read_gpickle(\"css_graph.gpickle\")"
   ]
  },
  {
   "cell_type": "code",
   "execution_count": 137,
   "id": "ad67a330",
   "metadata": {},
   "outputs": [],
   "source": [
    "import netwulf as nw\n",
    "import matplotlib.pyplot as plt\n",
    "import numpy as np\n",
    "import random\n",
    "import matplotlib.colors as mcolors\n",
    "import math\n",
    "import statistics\n",
    "import random\n",
    "from scipy.stats import ttest_1samp"
   ]
  },
  {
   "cell_type": "code",
   "execution_count": 138,
   "id": "0ee3a242",
   "metadata": {},
   "outputs": [],
   "source": [
    "#Make all missing top_fields = None\n",
    "for author in G.nodes:\n",
    "    if 'top_field' not in G.nodes[author]:\n",
    "        G.nodes[author]['top_field'] = None\n"
   ]
  },
  {
   "cell_type": "code",
   "execution_count": 139,
   "id": "e609e720",
   "metadata": {},
   "outputs": [],
   "source": [
    "#Compute average neighboors in same top field as each node\n",
    "def network_mean_same_field(top_fild_name):\n",
    "    for author in G.nodes:\n",
    "        G.nodes[author]['Avr_same_field'] = mean_same_field = statistics.mean(map(int, [G.nodes[author][top_fild_name] == field for field \n",
    "              in [G.nodes[neighboor][top_fild_name] for neighboor \n",
    "                  in G.neighbors(author)]]))\n",
    "    \n",
    "    #network average\n",
    "    network_mean = statistics.mean(map(float, [G.nodes[author]['Avr_same_field'] for author in G.nodes]))\n",
    "    return network_mean\n",
    "\n",
    "network_mean = network_mean_same_field('top_field')"
   ]
  },
  {
   "cell_type": "code",
   "execution_count": 140,
   "id": "a0fb2973",
   "metadata": {},
   "outputs": [],
   "source": [
    "top_fields = list(nx.get_node_attributes(G, \"top_field\").values())\n",
    "\n",
    "def randomise_top_fields_rand():\n",
    "    random.shuffle(top_fields)\n",
    "    for i, author in enumerate(G.nodes):\n",
    "        G.nodes[author]['top_field_rand'] = top_fields[i]"
   ]
  },
  {
   "cell_type": "code",
   "execution_count": 141,
   "id": "e6431c0c",
   "metadata": {},
   "outputs": [],
   "source": [
    "#Compute average neighboors in same top field as each node 100 times for random top fields\n",
    "rand_means = [] \n",
    "for i in range(100):\n",
    "    randomise_top_fields_rand()\n",
    "    rand_means.append(network_mean_same_field('top_field_rand'))\n",
    "    \n",
    "#rand_means\n"
   ]
  },
  {
   "cell_type": "code",
   "execution_count": 142,
   "id": "b6321a85",
   "metadata": {},
   "outputs": [],
   "source": [
    "#compute the p-value for the null-hypothesis that out network mean occured by random... The p-value is extreemly low\n",
    "t_stat, p_value = ttest_1samp(rand_means, network_mean)\n",
    "p_value"
   ]
  },
  {
   "cell_type": "code",
   "execution_count": null,
   "id": "cef64c8a",
   "metadata": {},
   "outputs": [],
   "source": []
  },
  {
   "cell_type": "code",
   "execution_count": null,
   "id": "16086531",
   "metadata": {},
   "outputs": [],
   "source": []
  },
  {
   "cell_type": "code",
   "execution_count": null,
   "id": "f41886cc",
   "metadata": {},
   "outputs": [],
   "source": []
  }
 ],
 "metadata": {
  "kernelspec": {
   "display_name": "Python 3 (ipykernel)",
   "language": "python",
   "name": "python3"
  },
  "language_info": {
   "codemirror_mode": {
    "name": "ipython",
    "version": 3
   },
   "file_extension": ".py",
   "mimetype": "text/x-python",
   "name": "python",
   "nbconvert_exporter": "python",
   "pygments_lexer": "ipython3",
   "version": "3.9.12"
  }
 },
 "nbformat": 4,
 "nbformat_minor": 5
}
